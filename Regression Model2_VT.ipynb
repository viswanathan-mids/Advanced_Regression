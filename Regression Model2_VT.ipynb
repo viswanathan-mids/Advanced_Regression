{
 "cells": [
  {
   "cell_type": "code",
   "execution_count": 97,
   "metadata": {
    "ExecuteTime": {
     "end_time": "2021-11-23T20:06:41.914646Z",
     "start_time": "2021-11-23T20:06:41.879648Z"
    },
    "executionInfo": {
     "elapsed": 934,
     "status": "ok",
     "timestamp": 1636304213794,
     "user": {
      "displayName": "anshuman awasthi",
      "photoUrl": "https://lh3.googleusercontent.com/a/default-user=s64",
      "userId": "02302100422864111709"
     },
     "user_tz": -330
    },
    "id": "UjOMW49tl6-J"
   },
   "outputs": [],
   "source": [
    "%matplotlib inline\n",
    "\n",
    "import sys\n",
    "import numpy as np\n",
    "from numpy.linalg import inv\n",
    "import pandas as pd\n",
    "import matplotlib.pyplot as plt\n",
    "import seaborn as sns\n",
    "from sklearn.linear_model import LinearRegression\n",
    "from sklearn.ensemble import RandomForestRegressor\n",
    "from sklearn import preprocessing\n",
    "from sklearn.metrics import mean_squared_error, mean_squared_log_error\n",
    "from sklearn.pipeline import Pipeline\n",
    "from sklearn.cluster import KMeans\n",
    "from sklearn.preprocessing import OrdinalEncoder\n",
    "from sklearn.preprocessing import OneHotEncoder\n",
    "from sklearn.utils import shuffle\n",
    "import time\n",
    "import datetime\n",
    "\n",
    "pd.set_option(\"display.max_rows\", None, \"display.max_columns\", None)"
   ]
  },
  {
   "cell_type": "code",
   "execution_count": 98,
   "metadata": {
    "ExecuteTime": {
     "end_time": "2021-11-23T20:06:42.057647Z",
     "start_time": "2021-11-23T20:06:41.920649Z"
    },
    "colab": {
     "base_uri": "https://localhost:8080/",
     "height": 410
    },
    "executionInfo": {
     "elapsed": 924,
     "status": "ok",
     "timestamp": 1636304214715,
     "user": {
      "displayName": "anshuman awasthi",
      "photoUrl": "https://lh3.googleusercontent.com/a/default-user=s64",
      "userId": "02302100422864111709"
     },
     "user_tz": -330
    },
    "id": "yUi-uqZbmE1W",
    "outputId": "777855d1-7949-4bc6-9f52-ce4e3262a770"
   },
   "outputs": [],
   "source": [
    "# Reads the train.csv file into the df_train dataset, so that we can use Pandas for data exploration\n",
    "df_train = pd.read_csv('train.csv', index_col='Id')\n",
    "df_test = pd.read_csv('test.csv', index_col='Id')"
   ]
  },
  {
   "cell_type": "code",
   "execution_count": 99,
   "metadata": {
    "ExecuteTime": {
     "end_time": "2021-11-23T20:06:42.909066Z",
     "start_time": "2021-11-23T20:06:42.066651Z"
    }
   },
   "outputs": [
    {
     "data": {
      "text/plain": [
       "(array([ 11.,  38.,  99., 232., 273., 218., 176., 104.,  93.,  58.,  42.,\n",
       "         35.,  24.,  10.,  17.,   8.,   7.,   4.,   2.,   1.,   1.,   2.,\n",
       "          1.,   0.,   2.,   0.,   0.,   0.,   0.,   2.]),\n",
       " array([ 34900.        ,  58903.33333333,  82906.66666667, 106910.        ,\n",
       "        130913.33333333, 154916.66666667, 178920.        , 202923.33333333,\n",
       "        226926.66666667, 250930.        , 274933.33333333, 298936.66666667,\n",
       "        322940.        , 346943.33333333, 370946.66666667, 394950.        ,\n",
       "        418953.33333333, 442956.66666667, 466960.        , 490963.33333333,\n",
       "        514966.66666667, 538970.        , 562973.33333333, 586976.66666667,\n",
       "        610980.        , 634983.33333333, 658986.66666667, 682990.        ,\n",
       "        706993.33333333, 730996.66666667, 755000.        ]),\n",
       " <BarContainer object of 30 artists>)"
      ]
     },
     "execution_count": 99,
     "metadata": {},
     "output_type": "execute_result"
    },
    {
     "data": {
      "image/png": "[encoded data removed]",
      "text/plain": [
       "<Figure size 432x288 with 1 Axes>"
      ]
     },
     "metadata": {
      "needs_background": "light"
     },
     "output_type": "display_data"
    }
   ],
   "source": [
    "plt.hist(df_train.SalePrice, bins = 30)"
   ]
  },
  {
   "cell_type": "code",
   "execution_count": 100,
   "metadata": {
    "ExecuteTime": {
     "end_time": "2021-11-23T20:06:42.940039Z",
     "start_time": "2021-11-23T20:06:42.925041Z"
    }
   },
   "outputs": [],
   "source": [
    "# df_train = df_train[df_train[\"SalePrice\"] < 600000]"
   ]
  },
  {
   "cell_type": "code",
   "execution_count": 101,
   "metadata": {
    "ExecuteTime": {
     "end_time": "2021-11-23T20:06:42.956049Z",
     "start_time": "2021-11-23T20:06:42.947042Z"
    }
   },
   "outputs": [],
   "source": [
    "# df_train.drop(df_train[df_train['SalePrice'] > 600000].index, inplace = True)"
   ]
  },
  {
   "cell_type": "code",
   "execution_count": 102,
   "metadata": {
    "ExecuteTime": {
     "end_time": "2021-11-23T20:06:42.987036Z",
     "start_time": "2021-11-23T20:06:42.964042Z"
    }
   },
   "outputs": [],
   "source": [
    "# df_train = df_train_c[df_train_c[\"SalePrice\"] < 800000].copy()"
   ]
  },
  {
   "cell_type": "code",
   "execution_count": 103,
   "metadata": {
    "ExecuteTime": {
     "end_time": "2021-11-23T20:06:43.002042Z",
     "start_time": "2021-11-23T20:06:42.993040Z"
    }
   },
   "outputs": [],
   "source": [
    "# median_price = df_train.groupby('Neighborhood')['SalePrice'].agg(np.median)"
   ]
  },
  {
   "cell_type": "code",
   "execution_count": 104,
   "metadata": {
    "ExecuteTime": {
     "end_time": "2021-11-23T20:06:43.034037Z",
     "start_time": "2021-11-23T20:06:43.010040Z"
    }
   },
   "outputs": [],
   "source": [
    "# median_price"
   ]
  },
  {
   "cell_type": "code",
   "execution_count": 105,
   "metadata": {
    "ExecuteTime": {
     "end_time": "2021-11-23T20:06:43.066039Z",
     "start_time": "2021-11-23T20:06:43.043039Z"
    }
   },
   "outputs": [],
   "source": [
    "# df_train['median_price'] = df_train['Neighborhood'].map(median_price)\n",
    "# df_test['median_price'] = df_test['Neighborhood'].map(median_price)"
   ]
  },
  {
   "cell_type": "code",
   "execution_count": 106,
   "metadata": {
    "ExecuteTime": {
     "end_time": "2021-11-23T20:06:43.098040Z",
     "start_time": "2021-11-23T20:06:43.087040Z"
    }
   },
   "outputs": [],
   "source": [
    "# del df_train['Neighborhood']\n",
    "# del df_test['Neighborhood']"
   ]
  },
  {
   "cell_type": "code",
   "execution_count": 107,
   "metadata": {
    "ExecuteTime": {
     "end_time": "2021-11-23T20:06:43.114037Z",
     "start_time": "2021-11-23T20:06:43.104045Z"
    }
   },
   "outputs": [],
   "source": [
    "# df_train['median_price']"
   ]
  },
  {
   "cell_type": "code",
   "execution_count": 108,
   "metadata": {
    "ExecuteTime": {
     "end_time": "2021-11-23T20:06:43.146040Z",
     "start_time": "2021-11-23T20:06:43.122041Z"
    }
   },
   "outputs": [
    {
     "data": {
      "text/plain": [
       "1Fam      1220\n",
       "TwnhsE     114\n",
       "Duplex      52\n",
       "Twnhs       43\n",
       "2fmCon      31\n",
       "Name: BldgType, dtype: int64"
      ]
     },
     "execution_count": 108,
     "metadata": {},
     "output_type": "execute_result"
    }
   ],
   "source": [
    "df_train.BldgType.value_counts()"
   ]
  },
  {
   "cell_type": "code",
   "execution_count": 109,
   "metadata": {
    "ExecuteTime": {
     "end_time": "2021-11-23T20:06:43.274041Z",
     "start_time": "2021-11-23T20:06:43.154042Z"
    }
   },
   "outputs": [],
   "source": [
    "del df_train['LotFrontage']\n",
    "del df_train['Street']\n",
    "del df_train['Alley']\n",
    "del df_train['LotShape']\n",
    "del df_train['LandContour']\n",
    "del df_train['Utilities']\n",
    "del df_train['LandSlope']\n",
    "del df_train['Exterior2nd']\n",
    "del df_train['MasVnrArea']\n",
    "del df_train['BsmtExposure']\n",
    "del df_train['BsmtFinType1']\n",
    "del df_train['BsmtFinSF1']\n",
    "del df_train['BsmtFinType2']\n",
    "del df_train['BsmtFinSF2']\n",
    "del df_train['BsmtUnfSF']\n",
    "del df_train['Heating']\n",
    "del df_train['CentralAir']\n",
    "del df_train['Electrical']\n",
    "del df_train['1stFlrSF']\n",
    "del df_train['2ndFlrSF']\n",
    "del df_train['LowQualFinSF']\n",
    "del df_train['BedroomAbvGr']\n",
    "del df_train['KitchenAbvGr']\n",
    "del df_train['GarageYrBlt']\n",
    "del df_train['GarageFinish']\n",
    "del df_train['GarageArea']\n",
    "del df_train['PavedDrive']\n",
    "del df_train['Fence']\n",
    "del df_train['MiscFeature']\n",
    "del df_train['SaleType']"
   ]
  },
  {
   "cell_type": "code",
   "execution_count": 110,
   "metadata": {
    "ExecuteTime": {
     "end_time": "2021-11-23T20:06:43.529059Z",
     "start_time": "2021-11-23T20:06:43.283045Z"
    }
   },
   "outputs": [],
   "source": [
    "del df_test['LotFrontage']\n",
    "del df_test['Street']\n",
    "del df_test['Alley']\n",
    "del df_test['LotShape']\n",
    "del df_test['LandContour']\n",
    "del df_test['Utilities']\n",
    "del df_test['LandSlope']\n",
    "del df_test['Exterior2nd']\n",
    "del df_test['MasVnrArea']\n",
    "del df_test['BsmtExposure']\n",
    "del df_test['BsmtFinType1']\n",
    "del df_test['BsmtFinSF1']\n",
    "del df_test['BsmtFinType2']\n",
    "del df_test['BsmtFinSF2']\n",
    "del df_test['BsmtUnfSF']\n",
    "del df_test['Heating']\n",
    "del df_test['CentralAir']\n",
    "del df_test['Electrical']\n",
    "del df_test['1stFlrSF']\n",
    "del df_test['2ndFlrSF']\n",
    "del df_test['LowQualFinSF']\n",
    "del df_test['BedroomAbvGr']\n",
    "del df_test['KitchenAbvGr']\n",
    "del df_test['GarageYrBlt']\n",
    "del df_test['GarageFinish']\n",
    "del df_test['GarageArea']\n",
    "del df_test['PavedDrive']\n",
    "del df_test['Fence']\n",
    "del df_test['MiscFeature']\n",
    "del df_test['SaleType']"
   ]
  },
  {
   "cell_type": "code",
   "execution_count": 111,
   "metadata": {
    "ExecuteTime": {
     "end_time": "2021-11-23T20:06:43.626057Z",
     "start_time": "2021-11-23T20:06:43.542044Z"
    }
   },
   "outputs": [],
   "source": [
    "df_train['Age'] = 2021-df_train['YearBuilt']\n",
    "df_test['Age'] = 2021-df_test['YearBuilt']"
   ]
  },
  {
   "cell_type": "code",
   "execution_count": 112,
   "metadata": {
    "ExecuteTime": {
     "end_time": "2021-11-23T20:06:43.702120Z",
     "start_time": "2021-11-23T20:06:43.655132Z"
    }
   },
   "outputs": [],
   "source": [
    "df_train['Remodel'] = np.where(df_train['YearRemodAdd']!= df_train['YearBuilt'], 'Yes', 'No')\n",
    "df_test['Remodel'] = np.where(df_test['YearRemodAdd']!= df_test['YearBuilt'], 'Yes', 'No')"
   ]
  },
  {
   "cell_type": "code",
   "execution_count": 113,
   "metadata": {
    "ExecuteTime": {
     "end_time": "2021-11-23T20:06:43.734122Z",
     "start_time": "2021-11-23T20:06:43.722122Z"
    }
   },
   "outputs": [],
   "source": [
    "# df_train[\"LogSalePrice\"] = np.log(df_train[\"SalePrice\"])"
   ]
  },
  {
   "cell_type": "code",
   "execution_count": 114,
   "metadata": {
    "ExecuteTime": {
     "end_time": "2021-11-23T20:06:43.781250Z",
     "start_time": "2021-11-23T20:06:43.746121Z"
    }
   },
   "outputs": [],
   "source": [
    "del df_train['YearRemodAdd']\n",
    "del df_test['YearRemodAdd']"
   ]
  },
  {
   "cell_type": "code",
   "execution_count": 115,
   "metadata": {
    "ExecuteTime": {
     "end_time": "2021-11-23T20:06:43.843247Z",
     "start_time": "2021-11-23T20:06:43.795255Z"
    }
   },
   "outputs": [],
   "source": [
    "df_train.loc[df_train.MasVnrType != \"None\", \"MasVnrType\"] = \"Present\"\n",
    "df_test.loc[df_test.MasVnrType != \"None\", \"MasVnrType\"] = \"Present\""
   ]
  },
  {
   "cell_type": "code",
   "execution_count": 116,
   "metadata": {
    "ExecuteTime": {
     "end_time": "2021-11-23T20:06:43.889251Z",
     "start_time": "2021-11-23T20:06:43.851254Z"
    }
   },
   "outputs": [],
   "source": [
    "df_train['TotalFullBath'] = df_train['BsmtFullBath']+df_train['FullBath']\n",
    "df_test['TotalFullBath'] = df_test['BsmtFullBath']+df_test['FullBath']\n",
    "df_train['TotalHalfBath'] = df_train['BsmtHalfBath']+df_train['HalfBath']\n",
    "df_test['TotalHalfBath'] = df_test['BsmtHalfBath']+df_test['HalfBath']"
   ]
  },
  {
   "cell_type": "code",
   "execution_count": 117,
   "metadata": {
    "ExecuteTime": {
     "end_time": "2021-11-23T20:06:43.966236Z",
     "start_time": "2021-11-23T20:06:43.899250Z"
    }
   },
   "outputs": [],
   "source": [
    "del df_train['BsmtFullBath']\n",
    "del df_train['FullBath']\n",
    "del df_train['BsmtHalfBath']\n",
    "del df_train['HalfBath']\n",
    "del df_test['BsmtFullBath']\n",
    "del df_test['FullBath']\n",
    "del df_test['BsmtHalfBath']\n",
    "del df_test['HalfBath']"
   ]
  },
  {
   "cell_type": "code",
   "execution_count": 118,
   "metadata": {
    "ExecuteTime": {
     "end_time": "2021-11-23T20:06:44.029235Z",
     "start_time": "2021-11-23T20:06:43.977233Z"
    }
   },
   "outputs": [],
   "source": [
    "df_train['OpendeckSF'] = df_train['WoodDeckSF']+df_train['OpenPorchSF']\n",
    "df_test['OpendeckSF'] = df_test['WoodDeckSF']+df_test['OpenPorchSF']\n",
    "df_train['CloseddeckSF'] = df_train['EnclosedPorch']+df_train['3SsnPorch']+df_train['ScreenPorch']\n",
    "df_test['CloseddeckSF'] = df_test['EnclosedPorch']+df_test['3SsnPorch']+df_test['ScreenPorch']"
   ]
  },
  {
   "cell_type": "code",
   "execution_count": 119,
   "metadata": {
    "ExecuteTime": {
     "end_time": "2021-11-23T20:06:44.092232Z",
     "start_time": "2021-11-23T20:06:44.037239Z"
    }
   },
   "outputs": [],
   "source": [
    "del df_train['WoodDeckSF']\n",
    "del df_train['OpenPorchSF']\n",
    "del df_train['EnclosedPorch']\n",
    "del df_train['3SsnPorch']\n",
    "del df_train['ScreenPorch']\n",
    "del df_test['WoodDeckSF']\n",
    "del df_test['OpenPorchSF']\n",
    "del df_test['EnclosedPorch']\n",
    "del df_test['3SsnPorch']\n",
    "del df_test['ScreenPorch']"
   ]
  },
  {
   "cell_type": "code",
   "execution_count": 120,
   "metadata": {
    "ExecuteTime": {
     "end_time": "2021-11-23T20:06:44.124235Z",
     "start_time": "2021-11-23T20:06:44.100239Z"
    }
   },
   "outputs": [],
   "source": [
    "df_train.loc[df_train.MSSubClass <= 50, \"MSSubClass\"] = 200\n",
    "df_test.loc[df_test.MSSubClass <= 50, \"MSSubClass\"] = 200"
   ]
  },
  {
   "cell_type": "code",
   "execution_count": 121,
   "metadata": {
    "ExecuteTime": {
     "end_time": "2021-11-23T20:06:44.156232Z",
     "start_time": "2021-11-23T20:06:44.130234Z"
    }
   },
   "outputs": [],
   "source": [
    "df_train.loc[df_train.MSSubClass <= 75, \"MSSubClass\"] = 210\n",
    "df_test.loc[df_test.MSSubClass <= 75, \"MSSubClass\"] = 210"
   ]
  },
  {
   "cell_type": "code",
   "execution_count": 122,
   "metadata": {
    "ExecuteTime": {
     "end_time": "2021-11-23T20:06:44.187787Z",
     "start_time": "2021-11-23T20:06:44.162233Z"
    }
   },
   "outputs": [],
   "source": [
    "df_train.loc[df_train.MSSubClass <= 85, \"MSSubClass\"] = 220\n",
    "df_test.loc[df_test.MSSubClass <= 85, \"MSSubClass\"] = 220"
   ]
  },
  {
   "cell_type": "code",
   "execution_count": 123,
   "metadata": {
    "ExecuteTime": {
     "end_time": "2021-11-23T20:06:44.235794Z",
     "start_time": "2021-11-23T20:06:44.195789Z"
    }
   },
   "outputs": [],
   "source": [
    "df_train.loc[df_train.MSSubClass == 90, \"MSSubClass\"] = 230\n",
    "df_test.loc[df_test.MSSubClass == 90, \"MSSubClass\"] = 230"
   ]
  },
  {
   "cell_type": "code",
   "execution_count": 124,
   "metadata": {
    "ExecuteTime": {
     "end_time": "2021-11-23T20:06:44.346791Z",
     "start_time": "2021-11-23T20:06:44.317793Z"
    }
   },
   "outputs": [],
   "source": [
    "df_train.loc[df_train.MSSubClass <= 150, \"MSSubClass\"] = 240\n",
    "df_test.loc[df_test.MSSubClass <= 150, \"MSSubClass\"] = 240"
   ]
  },
  {
   "cell_type": "code",
   "execution_count": 125,
   "metadata": {
    "ExecuteTime": {
     "end_time": "2021-11-23T20:06:44.393790Z",
     "start_time": "2021-11-23T20:06:44.359794Z"
    }
   },
   "outputs": [],
   "source": [
    "df_train.loc[df_train.MSSubClass <= 180, \"MSSubClass\"] = 250\n",
    "df_test.loc[df_test.MSSubClass <= 180, \"MSSubClass\"] = 250"
   ]
  },
  {
   "cell_type": "code",
   "execution_count": 126,
   "metadata": {
    "ExecuteTime": {
     "end_time": "2021-11-23T20:06:44.425791Z",
     "start_time": "2021-11-23T20:06:44.400798Z"
    }
   },
   "outputs": [],
   "source": [
    "df_train[\"MSSubClass\"] = df_train.MSSubClass.apply(str)\n",
    "df_test[\"MSSubClass\"] = df_test.MSSubClass.apply(str)"
   ]
  },
  {
   "cell_type": "code",
   "execution_count": 127,
   "metadata": {
    "ExecuteTime": {
     "end_time": "2021-11-23T20:06:44.456791Z",
     "start_time": "2021-11-23T20:06:44.434790Z"
    }
   },
   "outputs": [],
   "source": [
    "del df_train['GarageType']\n",
    "del df_test['GarageType']"
   ]
  },
  {
   "cell_type": "code",
   "execution_count": 128,
   "metadata": {
    "ExecuteTime": {
     "end_time": "2021-11-23T20:06:44.566321Z",
     "start_time": "2021-11-23T20:06:44.466791Z"
    }
   },
   "outputs": [],
   "source": [
    "df_train.loc[df_train.Condition1 == \"Artery\", \"Condition1\"] = \"Negative\"\n",
    "df_test.loc[df_test.Condition1 == \"Artery\", \"Condition1\"] = \"Negative\"\n",
    "df_train.loc[df_train.Condition1 == \"RRNn\", \"Condition1\"] = \"Negative\"\n",
    "df_test.loc[df_test.Condition1 == \"RRNn\", \"Condition1\"] = \"Negative\"\n",
    "df_train.loc[df_train.Condition1 == \"RRAn\", \"Condition1\"] = \"Negative\"\n",
    "df_test.loc[df_test.Condition1 == \"RRAn\", \"Condition1\"] = \"Negative\"\n",
    "df_train.loc[df_train.Condition1 == \"RRNe\", \"Condition1\"] = \"Negative\"\n",
    "df_test.loc[df_test.Condition1 == \"RRNe\", \"Condition1\"] = \"Negative\"\n",
    "df_train.loc[df_train.Condition1 == \"RRAe\", \"Condition1\"] = \"Negative\"\n",
    "df_test.loc[df_test.Condition1 == \"RRAe\", \"Condition1\"] = \"Negative\"\n",
    "\n",
    "df_train.loc[df_train.Condition2 == \"Feedr\", \"Condition2\"] = \"Positive\"\n",
    "df_test.loc[df_test.Condition2 == \"Feedr\", \"Condition2\"] = \"Positive\"\n",
    "df_train.loc[df_train.Condition2 == \"PosN\", \"Condition2\"] = \"Positive\"\n",
    "df_test.loc[df_test.Condition2 == \"PosN\", \"Condition2\"] = \"Positive\"\n",
    "df_train.loc[df_train.Condition2 == \"PosA\", \"Condition2\"] = \"Positive\"\n",
    "df_test.loc[df_test.Condition2 == \"PosA\", \"Condition2\"] = \"Positive\""
   ]
  },
  {
   "cell_type": "code",
   "execution_count": 129,
   "metadata": {
    "ExecuteTime": {
     "end_time": "2021-11-23T20:06:44.596328Z",
     "start_time": "2021-11-23T20:06:44.574323Z"
    }
   },
   "outputs": [],
   "source": [
    "df_train['NewCondition'] = df_train['Condition1']+df_train['Condition2']\n",
    "df_test['NewCondition'] = df_test['Condition1']+df_test['Condition2']\n"
   ]
  },
  {
   "cell_type": "code",
   "execution_count": 130,
   "metadata": {
    "ExecuteTime": {
     "end_time": "2021-11-23T20:06:44.627329Z",
     "start_time": "2021-11-23T20:06:44.603323Z"
    }
   },
   "outputs": [],
   "source": [
    "del df_train['Condition1']\n",
    "del df_test['Condition1']\n",
    "del df_train['Condition2']\n",
    "del df_test['Condition2']"
   ]
  },
  {
   "cell_type": "code",
   "execution_count": 131,
   "metadata": {
    "ExecuteTime": {
     "end_time": "2021-11-23T20:06:44.659325Z",
     "start_time": "2021-11-23T20:06:44.633327Z"
    }
   },
   "outputs": [],
   "source": [
    "df_train.loc[df_train.LotConfig == \"FR3\", \"LotConfig\"] = \"FR2\"\n",
    "df_test.loc[df_test.LotConfig == \"FR3\", \"LotConfig\"] = \"FR2\""
   ]
  },
  {
   "cell_type": "code",
   "execution_count": 132,
   "metadata": {
    "ExecuteTime": {
     "end_time": "2021-11-23T20:06:44.753320Z",
     "start_time": "2021-11-23T20:06:44.665326Z"
    }
   },
   "outputs": [],
   "source": [
    "df_train.loc[df_train.HouseStyle == \"1Story\", \"HouseStyle\"] = \"1S\"\n",
    "df_test.loc[df_test.HouseStyle == \"1Story\", \"HouseStyle\"] = \"1S\"\n",
    "df_train.loc[df_train.HouseStyle == \"1.5Fin\", \"HouseStyle\"] = \"1S\"\n",
    "df_test.loc[df_test.HouseStyle == \"1.5Fin\", \"HouseStyle\"] = \"1S\"\n",
    "df_train.loc[df_train.HouseStyle == \"1.5Unf\", \"HouseStyle\"] = \"1S\"\n",
    "df_test.loc[df_test.HouseStyle == \"1.5Unf\", \"HouseStyle\"] = \"1S\"\n",
    "df_train.loc[df_train.HouseStyle == \"2Story\", \"HouseStyle\"] = \"2S\"\n",
    "df_test.loc[df_test.HouseStyle == \"2Story\", \"HouseStyle\"] = \"2S\"\n",
    "df_train.loc[df_train.HouseStyle == \"2.5Fin\", \"HouseStyle\"] = \"2S\"\n",
    "df_test.loc[df_test.HouseStyle == \"2.5Fin\", \"HouseStyle\"] = \"2S\"\n",
    "df_train.loc[df_train.HouseStyle == \"2.5Unf\", \"HouseStyle\"] = \"2S\"\n",
    "df_test.loc[df_test.HouseStyle == \"2.5Unf\", \"HouseStyle\"] = \"2S\"\n",
    "df_train.loc[df_train.HouseStyle == \"SFoyer\", \"HouseStyle\"] = \"S\"\n",
    "df_test.loc[df_test.HouseStyle == \"SFoyer\", \"HouseStyle\"] = \"S\"\n",
    "df_train.loc[df_train.HouseStyle == \"SLvl\", \"HouseStyle\"] = \"S\"\n",
    "df_test.loc[df_test.HouseStyle == \"SLvl\", \"HouseStyle\"] = \"S\""
   ]
  },
  {
   "cell_type": "code",
   "execution_count": 133,
   "metadata": {
    "ExecuteTime": {
     "end_time": "2021-11-23T20:06:44.863293Z",
     "start_time": "2021-11-23T20:06:44.761323Z"
    }
   },
   "outputs": [],
   "source": [
    "df_train.loc[df_train.OverallQual == 10, \"OverallQual\"] = \"OEX\"\n",
    "df_test.loc[df_test.OverallQual == 10, \"OverallQual\"] = \"OEX\"\n",
    "df_train.loc[df_train.OverallQual == 9, \"OverallQual\"] = \"OEX\"\n",
    "df_test.loc[df_test.OverallQual == 9, \"OverallQual\"] = \"OEX\"\n",
    "df_train.loc[df_train.OverallQual == 8, \"OverallQual\"] = \"OG\"\n",
    "df_test.loc[df_test.OverallQual == 8, \"OverallQual\"] = \"OG\"\n",
    "df_train.loc[df_train.OverallQual == 7, \"OverallQual\"] = \"OG\"\n",
    "df_test.loc[df_test.OverallQual == 7, \"OverallQual\"] = \"OG\"\n",
    "df_train.loc[df_train.OverallQual == 6, \"OverallQual\"] = \"OAVG\"\n",
    "df_test.loc[df_test.OverallQual == 6, \"OverallQual\"] = \"OAVG\"\n",
    "df_train.loc[df_train.OverallQual == 5, \"OverallQual\"] = \"OAVG\"\n",
    "df_test.loc[df_test.OverallQual == 5, \"OverallQual\"] = \"OAVG\"\n",
    "df_train.loc[df_train.OverallQual == 4, \"OverallQual\"] = \"OAVG\"\n",
    "df_test.loc[df_test.OverallQual == 4, \"OverallQual\"] = \"OAVG\"\n",
    "df_train.loc[df_train.OverallQual == 3, \"OverallQual\"] = \"OP\"\n",
    "df_test.loc[df_test.OverallQual == 3, \"OverallQual\"] = \"OP\"\n",
    "df_train.loc[df_train.OverallQual == 2, \"OverallQual\"] = \"OP\"\n",
    "df_test.loc[df_test.OverallQual == 2, \"OverallQual\"] = \"OP\"\n",
    "df_train.loc[df_train.OverallQual == 1, \"OverallQual\"] = \"OP\"\n",
    "df_test.loc[df_test.OverallQual == 1, \"OverallQual\"] = \"OP\""
   ]
  },
  {
   "cell_type": "code",
   "execution_count": 134,
   "metadata": {
    "ExecuteTime": {
     "end_time": "2021-11-23T20:06:44.991291Z",
     "start_time": "2021-11-23T20:06:44.876291Z"
    }
   },
   "outputs": [],
   "source": [
    "df_train.loc[df_train.OverallCond == 10, \"OverallCond\"] = \"OEX\"\n",
    "df_test.loc[df_test.OverallCond == 10, \"OverallCond\"] = \"OEX\"\n",
    "df_train.loc[df_train.OverallCond == 9, \"OverallCond\"] = \"OEX\"\n",
    "df_test.loc[df_test.OverallCond == 9, \"OverallCond\"] = \"OEX\"\n",
    "df_train.loc[df_train.OverallCond == 8, \"OverallCond\"] = \"OG\"\n",
    "df_test.loc[df_test.OverallCond == 8, \"OverallCond\"] = \"OG\"\n",
    "df_train.loc[df_train.OverallCond == 7, \"OverallCond\"] = \"OG\"\n",
    "df_test.loc[df_test.OverallCond == 7, \"OverallCond\"] = \"OG\"\n",
    "df_train.loc[df_train.OverallCond == 6, \"OverallCond\"] = \"OAVG\"\n",
    "df_test.loc[df_test.OverallCond == 6, \"OverallCond\"] = \"OAVG\"\n",
    "df_train.loc[df_train.OverallCond == 5, \"OverallCond\"] = \"OAVG\"\n",
    "df_test.loc[df_test.OverallCond == 5, \"OverallCond\"] = \"OAVG\"\n",
    "df_train.loc[df_train.OverallCond == 4, \"OverallCond\"] = \"OAVG\"\n",
    "df_test.loc[df_test.OverallCond == 4, \"OverallCond\"] = \"OAVG\"\n",
    "df_train.loc[df_train.OverallCond == 3, \"OverallCond\"] = \"OP\"\n",
    "df_test.loc[df_test.OverallCond == 3, \"OverallCond\"] = \"OP\"\n",
    "df_train.loc[df_train.OverallCond == 2, \"OverallCond\"] = \"OP\"\n",
    "df_test.loc[df_test.OverallCond == 2, \"OverallCond\"] = \"OP\"\n",
    "df_train.loc[df_train.OverallCond == 1, \"OverallCond\"] = \"OP\"\n",
    "df_test.loc[df_test.OverallCond == 1, \"OverallCond\"] = \"OP\""
   ]
  },
  {
   "cell_type": "code",
   "execution_count": 135,
   "metadata": {
    "ExecuteTime": {
     "end_time": "2021-11-23T20:06:45.023289Z",
     "start_time": "2021-11-23T20:06:44.997291Z"
    }
   },
   "outputs": [],
   "source": [
    "df_train[\"NewOverall\"] = df_train.OverallQual + df_train.OverallCond\n",
    "df_test[\"NewOverall\"] = df_test.OverallQual + df_test.OverallCond"
   ]
  },
  {
   "cell_type": "code",
   "execution_count": 136,
   "metadata": {
    "ExecuteTime": {
     "end_time": "2021-11-23T20:06:45.068705Z",
     "start_time": "2021-11-23T20:06:45.033298Z"
    }
   },
   "outputs": [],
   "source": [
    "del df_train[\"OverallQual\"]\n",
    "del df_train[\"OverallCond\"]\n",
    "del df_test[\"OverallQual\"]\n",
    "del df_test[\"OverallCond\"]"
   ]
  },
  {
   "cell_type": "code",
   "execution_count": 137,
   "metadata": {
    "ExecuteTime": {
     "end_time": "2021-11-23T20:06:45.100700Z",
     "start_time": "2021-11-23T20:06:45.075703Z"
    }
   },
   "outputs": [],
   "source": [
    "df_train[\"NewRoof\"] = df_train.RoofStyle + df_train.RoofMatl\n",
    "df_test[\"NewRoof\"] = df_test.RoofStyle + df_test.RoofMatl"
   ]
  },
  {
   "cell_type": "code",
   "execution_count": 138,
   "metadata": {
    "ExecuteTime": {
     "end_time": "2021-11-23T20:06:45.146697Z",
     "start_time": "2021-11-23T20:06:45.108709Z"
    }
   },
   "outputs": [],
   "source": [
    "del df_train[\"RoofStyle\"]\n",
    "del df_test[\"RoofStyle\"]\n",
    "del df_train[\"RoofMatl\"]\n",
    "del df_test[\"RoofMatl\"]"
   ]
  },
  {
   "cell_type": "code",
   "execution_count": 139,
   "metadata": {
    "ExecuteTime": {
     "end_time": "2021-11-23T20:06:45.178703Z",
     "start_time": "2021-11-23T20:06:45.153699Z"
    }
   },
   "outputs": [],
   "source": [
    "df_train[\"NewExter\"] = df_train.ExterQual + df_train.ExterCond\n",
    "df_test[\"NewExter\"] = df_test.ExterQual + df_test.ExterCond"
   ]
  },
  {
   "cell_type": "code",
   "execution_count": 140,
   "metadata": {
    "ExecuteTime": {
     "end_time": "2021-11-23T20:06:45.224700Z",
     "start_time": "2021-11-23T20:06:45.186705Z"
    }
   },
   "outputs": [],
   "source": [
    "del df_train[\"ExterQual\"]\n",
    "del df_test[\"ExterQual\"]\n",
    "del df_train[\"ExterCond\"]\n",
    "del df_test[\"ExterCond\"]"
   ]
  },
  {
   "cell_type": "code",
   "execution_count": 141,
   "metadata": {
    "ExecuteTime": {
     "end_time": "2021-11-23T20:06:45.256700Z",
     "start_time": "2021-11-23T20:06:45.230702Z"
    }
   },
   "outputs": [],
   "source": [
    "df_train[\"NewBase\"] = df_train.BsmtQual + df_train.BsmtCond\n",
    "df_test[\"NewBase\"] = df_test.BsmtQual + df_test.BsmtCond"
   ]
  },
  {
   "cell_type": "code",
   "execution_count": 142,
   "metadata": {
    "ExecuteTime": {
     "end_time": "2021-11-23T20:06:45.302697Z",
     "start_time": "2021-11-23T20:06:45.265703Z"
    }
   },
   "outputs": [],
   "source": [
    "del df_train[\"BsmtQual\"]\n",
    "del df_test[\"BsmtQual\"]\n",
    "del df_train[\"BsmtCond\"]\n",
    "del df_test[\"BsmtCond\"]"
   ]
  },
  {
   "cell_type": "code",
   "execution_count": 143,
   "metadata": {
    "ExecuteTime": {
     "end_time": "2021-11-23T20:06:45.400659Z",
     "start_time": "2021-11-23T20:06:45.310708Z"
    }
   },
   "outputs": [],
   "source": [
    "df_train.loc[df_train.Functional == \"Typ\", \"Functional\"] = 1\n",
    "df_test.loc[df_test.Functional == \"Typ\", \"Functional\"] = 1\n",
    "df_train.loc[df_train.Functional == \"Min1\", \"Functional\"] = 2\n",
    "df_test.loc[df_test.Functional == \"Min1\", \"Functional\"] = 2\n",
    "df_train.loc[df_train.Functional == \"Min2\", \"Functional\"] = 2\n",
    "df_test.loc[df_test.Functional == \"Min2\", \"Functional\"] = 2\n",
    "df_train.loc[df_train.Functional == \"Mod\", \"Functional\"] = 3\n",
    "df_test.loc[df_test.Functional == \"Mod\", \"Functional\"] = 3\n",
    "df_train.loc[df_train.Functional == \"Maj1\", \"Functional\"] = 4\n",
    "df_test.loc[df_test.Functional == \"Maj1\", \"Functional\"] = 4\n",
    "df_train.loc[df_train.Functional == \"Maj2\", \"Functional\"] = 4\n",
    "df_test.loc[df_test.Functional == \"Maj2\", \"Functional\"] = 4\n",
    "df_train.loc[df_train.Functional == \"Sev\", \"Functional\"] = 5\n",
    "df_test.loc[df_test.Functional == \"Sev\", \"Functional\"] = 5\n",
    "df_train.loc[df_train.Functional == \"Sal\", \"Functional\"] = 5\n",
    "df_test.loc[df_test.Functional == \"Sal\", \"Functional\"] = 5\n"
   ]
  },
  {
   "cell_type": "code",
   "execution_count": 144,
   "metadata": {
    "ExecuteTime": {
     "end_time": "2021-11-23T20:06:45.432656Z",
     "start_time": "2021-11-23T20:06:45.408661Z"
    }
   },
   "outputs": [],
   "source": [
    "df_train[\"NewGarage\"] = df_train.GarageQual + df_train.GarageCond\n",
    "df_test[\"NewGarage\"] = df_test.GarageQual + df_test.GarageCond"
   ]
  },
  {
   "cell_type": "code",
   "execution_count": 145,
   "metadata": {
    "ExecuteTime": {
     "end_time": "2021-11-23T20:06:45.478655Z",
     "start_time": "2021-11-23T20:06:45.441660Z"
    }
   },
   "outputs": [],
   "source": [
    "del df_train[\"GarageQual\"]\n",
    "del df_test[\"GarageQual\"]\n",
    "del df_train[\"GarageCond\"]\n",
    "del df_test[\"GarageCond\"]"
   ]
  },
  {
   "cell_type": "code",
   "execution_count": 146,
   "metadata": {
    "ExecuteTime": {
     "end_time": "2021-11-23T20:06:45.524662Z",
     "start_time": "2021-11-23T20:06:45.484658Z"
    }
   },
   "outputs": [],
   "source": [
    "df_train[\"MoSold\"] = df_train.MoSold.apply(str)\n",
    "df_train[\"YrSold\"] = df_train.YrSold.apply(str)\n",
    "df_test[\"MoSold\"] = df_test.MoSold.apply(str)\n",
    "df_test[\"YrSold\"] = df_test.YrSold.apply(str)"
   ]
  },
  {
   "cell_type": "code",
   "execution_count": 147,
   "metadata": {
    "ExecuteTime": {
     "end_time": "2021-11-23T20:06:45.571662Z",
     "start_time": "2021-11-23T20:06:45.532659Z"
    }
   },
   "outputs": [],
   "source": [
    "df_train[\"NewDateSold\"] = df_train['MoSold'].astype(str) + \"-\" + \"1\"+ \"-\" + df_train['YrSold'].astype(str)\n",
    "df_test[\"NewDateSold\"] =  df_test['MoSold'].astype(str) + \"-\" + \"1\"+ \"-\" + df_test['YrSold'].astype(str)"
   ]
  },
  {
   "cell_type": "code",
   "execution_count": 148,
   "metadata": {
    "ExecuteTime": {
     "end_time": "2021-11-23T20:06:45.683663Z",
     "start_time": "2021-11-23T20:06:45.583661Z"
    }
   },
   "outputs": [],
   "source": [
    "df_train[\"NewDateSold\"] = pd.to_datetime(df_train[\"NewDateSold\"])\n",
    "df_test[\"NewDateSold\"] = pd.to_datetime(df_test[\"NewDateSold\"])"
   ]
  },
  {
   "cell_type": "code",
   "execution_count": 149,
   "metadata": {
    "ExecuteTime": {
     "end_time": "2021-11-23T20:06:45.728657Z",
     "start_time": "2021-11-23T20:06:45.692661Z"
    }
   },
   "outputs": [],
   "source": [
    "del df_train['MoSold']\n",
    "del df_test['MoSold']\n",
    "del df_train['YrSold']\n",
    "del df_test['YrSold']"
   ]
  },
  {
   "cell_type": "code",
   "execution_count": 150,
   "metadata": {
    "ExecuteTime": {
     "end_time": "2021-11-23T20:06:45.805662Z",
     "start_time": "2021-11-23T20:06:45.736663Z"
    }
   },
   "outputs": [],
   "source": [
    "df_train.loc[df_train.SaleCondition == \"AdjLand\", \"SaleCondition\"] = \"Normal\"\n",
    "df_test.loc[df_test.SaleCondition == \"AdjLand\", \"SaleCondition\"] = \"Normal\"\n",
    "df_train.loc[df_train.SaleCondition == \"Alloca\", \"SaleCondition\"] = \"Normal\"\n",
    "df_test.loc[df_test.SaleCondition == \"Alloca\", \"SaleCondition\"] = \"Normal\"\n",
    "df_train.loc[df_train.SaleCondition == \"Partial\", \"SaleCondition\"] = \"Normal\"\n",
    "df_test.loc[df_test.SaleCondition == \"Partial\", \"SaleCondition\"] = \"Normal\"\n",
    "df_train.loc[df_train.SaleCondition == \"Family\", \"SaleCondition\"] = \"Abnorml\"\n",
    "df_test.loc[df_test.SaleCondition == \"Family\", \"SaleCondition\"] = \"Abnorml\""
   ]
  },
  {
   "cell_type": "code",
   "execution_count": 151,
   "metadata": {
    "ExecuteTime": {
     "end_time": "2021-11-23T20:06:45.852658Z",
     "start_time": "2021-11-23T20:06:45.812661Z"
    }
   },
   "outputs": [],
   "source": [
    "df_train.loc[df_train.SaleCondition == \"Normal\", \"SaleCondition\"] = 1\n",
    "df_test.loc[df_test.SaleCondition == \"Normal\", \"SaleCondition\"] = 1\n",
    "df_train.loc[df_train.SaleCondition == \"Abnorml\", \"SaleCondition\"] = 0\n",
    "df_test.loc[df_test.SaleCondition == \"Abnorml\", \"SaleCondition\"] = 0"
   ]
  },
  {
   "cell_type": "code",
   "execution_count": 152,
   "metadata": {
    "ExecuteTime": {
     "end_time": "2021-11-23T20:06:45.883660Z",
     "start_time": "2021-11-23T20:06:45.862666Z"
    }
   },
   "outputs": [],
   "source": [
    "df_train['NewBase'] = df_train.NewBase.fillna('NANA')\n",
    "df_test['NewBase'] = df_test.NewBase.fillna('NANA')"
   ]
  },
  {
   "cell_type": "code",
   "execution_count": 153,
   "metadata": {
    "ExecuteTime": {
     "end_time": "2021-11-23T20:06:45.915660Z",
     "start_time": "2021-11-23T20:06:45.890662Z"
    }
   },
   "outputs": [],
   "source": [
    "df_train['NewGarage'] = df_train.NewGarage.fillna('NANA')\n",
    "df_test['NewGarage'] = df_test.NewGarage.fillna('NANA')"
   ]
  },
  {
   "cell_type": "code",
   "execution_count": 154,
   "metadata": {
    "ExecuteTime": {
     "end_time": "2021-11-23T20:06:45.947660Z",
     "start_time": "2021-11-23T20:06:45.925662Z"
    }
   },
   "outputs": [],
   "source": [
    "del df_train['PoolQC']\n",
    "del df_test['PoolQC']"
   ]
  },
  {
   "cell_type": "code",
   "execution_count": 155,
   "metadata": {
    "ExecuteTime": {
     "end_time": "2021-11-23T20:06:45.994655Z",
     "start_time": "2021-11-23T20:06:45.956661Z"
    }
   },
   "outputs": [],
   "source": [
    "df_train['FireplaceQu'] = df_train.FireplaceQu.fillna('NA')\n",
    "df_test['FireplaceQu'] = df_test.FireplaceQu.fillna('NA')"
   ]
  },
  {
   "cell_type": "code",
   "execution_count": 156,
   "metadata": {
    "ExecuteTime": {
     "end_time": "2021-11-23T20:06:46.073658Z",
     "start_time": "2021-11-23T20:06:46.004662Z"
    }
   },
   "outputs": [],
   "source": [
    "df_test['MSZoning'] = df_test.MSZoning.fillna('RL')\n",
    "df_test['Exterior1st'] = df_test.Exterior1st.fillna('VinylSd')\n",
    "df_test['TotalBsmtSF'] = df_test.TotalBsmtSF.fillna(0)\n",
    "df_test['KitchenQual'] = df_test.KitchenQual.fillna('TA')\n",
    "df_test['Functional'] = df_test.Functional.fillna(1)\n",
    "df_test['GarageCars'] = df_test.GarageCars.fillna(2)\n",
    "df_test['TotalFullBath'] = df_test.TotalFullBath.fillna(3)\n",
    "df_test['TotalHalfBath'] = df_test.TotalHalfBath.fillna(1)"
   ]
  },
  {
   "cell_type": "code",
   "execution_count": 157,
   "metadata": {
    "ExecuteTime": {
     "end_time": "2021-11-23T20:06:46.125662Z",
     "start_time": "2021-11-23T20:06:46.082669Z"
    }
   },
   "outputs": [],
   "source": [
    "df_train[\"Functional\"] = df_train.Functional.apply(int)\n",
    "df_test[\"Functional\"] = df_test.Functional.apply(int)"
   ]
  },
  {
   "cell_type": "code",
   "execution_count": 158,
   "metadata": {
    "ExecuteTime": {
     "end_time": "2021-11-23T20:06:46.169662Z",
     "start_time": "2021-11-23T20:06:46.145662Z"
    }
   },
   "outputs": [],
   "source": [
    "df_test_miss = df_test.copy()"
   ]
  },
  {
   "cell_type": "code",
   "execution_count": 159,
   "metadata": {
    "ExecuteTime": {
     "end_time": "2021-11-23T20:06:46.310660Z",
     "start_time": "2021-11-23T20:06:46.178663Z"
    }
   },
   "outputs": [
    {
     "name": "stdout",
     "output_type": "stream",
     "text": [
      "<class 'pandas.core.frame.DataFrame'>\n",
      "Int64Index: 1460 entries, 1 to 1460\n",
      "Data columns (total 37 columns):\n",
      " #   Column         Non-Null Count  Dtype         \n",
      "---  ------         --------------  -----         \n",
      " 0   MSSubClass     1460 non-null   object        \n",
      " 1   MSZoning       1460 non-null   object        \n",
      " 2   LotArea        1460 non-null   int64         \n",
      " 3   LotConfig      1460 non-null   object        \n",
      " 4   Neighborhood   1460 non-null   object        \n",
      " 5   BldgType       1460 non-null   object        \n",
      " 6   HouseStyle     1460 non-null   object        \n",
      " 7   YearBuilt      1460 non-null   int64         \n",
      " 8   Exterior1st    1460 non-null   object        \n",
      " 9   MasVnrType     1460 non-null   object        \n",
      " 10  Foundation     1460 non-null   object        \n",
      " 11  TotalBsmtSF    1460 non-null   int64         \n",
      " 12  HeatingQC      1460 non-null   object        \n",
      " 13  GrLivArea      1460 non-null   int64         \n",
      " 14  KitchenQual    1460 non-null   object        \n",
      " 15  TotRmsAbvGrd   1460 non-null   int64         \n",
      " 16  Functional     1460 non-null   int64         \n",
      " 17  Fireplaces     1460 non-null   int64         \n",
      " 18  FireplaceQu    1460 non-null   object        \n",
      " 19  GarageCars     1460 non-null   int64         \n",
      " 20  PoolArea       1460 non-null   int64         \n",
      " 21  MiscVal        1460 non-null   int64         \n",
      " 22  SaleCondition  1460 non-null   object        \n",
      " 23  SalePrice      1460 non-null   int64         \n",
      " 24  Age            1460 non-null   int64         \n",
      " 25  Remodel        1460 non-null   object        \n",
      " 26  TotalFullBath  1460 non-null   int64         \n",
      " 27  TotalHalfBath  1460 non-null   int64         \n",
      " 28  OpendeckSF     1460 non-null   int64         \n",
      " 29  CloseddeckSF   1460 non-null   int64         \n",
      " 30  NewCondition   1460 non-null   object        \n",
      " 31  NewOverall     1460 non-null   object        \n",
      " 32  NewRoof        1460 non-null   object        \n",
      " 33  NewExter       1460 non-null   object        \n",
      " 34  NewBase        1460 non-null   object        \n",
      " 35  NewGarage      1460 non-null   object        \n",
      " 36  NewDateSold    1460 non-null   datetime64[ns]\n",
      "dtypes: datetime64[ns](1), int64(16), object(20)\n",
      "memory usage: 433.4+ KB\n"
     ]
    }
   ],
   "source": [
    "df_train.info()"
   ]
  },
  {
   "cell_type": "code",
   "execution_count": 160,
   "metadata": {
    "ExecuteTime": {
     "end_time": "2021-11-23T20:06:46.419660Z",
     "start_time": "2021-11-23T20:06:46.320665Z"
    }
   },
   "outputs": [
    {
     "name": "stdout",
     "output_type": "stream",
     "text": [
      "<class 'pandas.core.frame.DataFrame'>\n",
      "Int64Index: 1459 entries, 1461 to 2919\n",
      "Data columns (total 36 columns):\n",
      " #   Column         Non-Null Count  Dtype         \n",
      "---  ------         --------------  -----         \n",
      " 0   MSSubClass     1459 non-null   object        \n",
      " 1   MSZoning       1459 non-null   object        \n",
      " 2   LotArea        1459 non-null   int64         \n",
      " 3   LotConfig      1459 non-null   object        \n",
      " 4   Neighborhood   1459 non-null   object        \n",
      " 5   BldgType       1459 non-null   object        \n",
      " 6   HouseStyle     1459 non-null   object        \n",
      " 7   YearBuilt      1459 non-null   int64         \n",
      " 8   Exterior1st    1459 non-null   object        \n",
      " 9   MasVnrType     1459 non-null   object        \n",
      " 10  Foundation     1459 non-null   object        \n",
      " 11  TotalBsmtSF    1459 non-null   float64       \n",
      " 12  HeatingQC      1459 non-null   object        \n",
      " 13  GrLivArea      1459 non-null   int64         \n",
      " 14  KitchenQual    1459 non-null   object        \n",
      " 15  TotRmsAbvGrd   1459 non-null   int64         \n",
      " 16  Functional     1459 non-null   int64         \n",
      " 17  Fireplaces     1459 non-null   int64         \n",
      " 18  FireplaceQu    1459 non-null   object        \n",
      " 19  GarageCars     1459 non-null   float64       \n",
      " 20  PoolArea       1459 non-null   int64         \n",
      " 21  MiscVal        1459 non-null   int64         \n",
      " 22  SaleCondition  1459 non-null   object        \n",
      " 23  Age            1459 non-null   int64         \n",
      " 24  Remodel        1459 non-null   object        \n",
      " 25  TotalFullBath  1459 non-null   float64       \n",
      " 26  TotalHalfBath  1459 non-null   float64       \n",
      " 27  OpendeckSF     1459 non-null   int64         \n",
      " 28  CloseddeckSF   1459 non-null   int64         \n",
      " 29  NewCondition   1459 non-null   object        \n",
      " 30  NewOverall     1459 non-null   object        \n",
      " 31  NewRoof        1459 non-null   object        \n",
      " 32  NewExter       1459 non-null   object        \n",
      " 33  NewBase        1459 non-null   object        \n",
      " 34  NewGarage      1459 non-null   object        \n",
      " 35  NewDateSold    1459 non-null   datetime64[ns]\n",
      "dtypes: datetime64[ns](1), float64(4), int64(11), object(20)\n",
      "memory usage: 421.7+ KB\n"
     ]
    }
   ],
   "source": [
    "df_test.info()"
   ]
  },
  {
   "cell_type": "code",
   "execution_count": 161,
   "metadata": {
    "ExecuteTime": {
     "end_time": "2021-11-23T20:06:46.450660Z",
     "start_time": "2021-11-23T20:06:46.436659Z"
    }
   },
   "outputs": [],
   "source": [
    "# from sklearn.impute import SimpleImputer\n",
    "\n",
    "# sorted_indexes = np.argsort(df_test_miss.isnull().sum(axis=0)).values\n",
    "\n",
    "# for i in sorted_indexes:\n",
    "    \n",
    "#     feature_i = df_test_miss.iloc[:, i]\n",
    "#     tmp_df = pd.concat([df_test_miss.iloc[:, df_test_miss.columns != i], pd.DataFrame(df_test)], axis=1)\n",
    "\n",
    "#     imp_mean = SimpleImputer(missing_values=np.nan, strategy='mean')  \n",
    "#     tmp_df_mean = imp_mean.fit_transform(tmp_df)  \n",
    "\n",
    "#     y_train = feature_i[feature_i.notnull()]  \n",
    "#     y_test = feature_i[feature_i.isnull()]   \n",
    "#     x_train = tmp_df_mean[y_train.index, :] \n",
    "#     x_test = tmp_df_mean[y_test.index, :]  \n",
    "\n",
    "    \n",
    "#     rfc = RandomForestRegressor(n_estimators=100)\n",
    "#     rfc = rfc.fit(x_train, y_train)\n",
    "#     y_predict = rfc.predict(x_test)\n",
    "\n",
    "    \n",
    "#     df_test_miss.loc[df_test_miss.iloc[:, i].isnull(), i] = y_predict\n",
    "\n"
   ]
  },
  {
   "cell_type": "code",
   "execution_count": 162,
   "metadata": {
    "ExecuteTime": {
     "end_time": "2021-11-23T20:06:46.481658Z",
     "start_time": "2021-11-23T20:06:46.458661Z"
    }
   },
   "outputs": [],
   "source": [
    "# df_test.Exterior1st.value_counts()"
   ]
  },
  {
   "cell_type": "code",
   "execution_count": 163,
   "metadata": {
    "ExecuteTime": {
     "end_time": "2021-11-23T20:06:46.513657Z",
     "start_time": "2021-11-23T20:06:46.490661Z"
    }
   },
   "outputs": [],
   "source": [
    "# temp_train = pd.read_csv('train.csv', index_col='Id')\n",
    "# temp_test = pd.read_csv('test.csv', index_col='Id')"
   ]
  },
  {
   "cell_type": "code",
   "execution_count": null,
   "metadata": {
    "ExecuteTime": {
     "end_time": "2021-11-19T15:58:57.432369Z",
     "start_time": "2021-11-19T15:58:57.405371Z"
    }
   },
   "outputs": [],
   "source": []
  },
  {
   "cell_type": "code",
   "execution_count": 164,
   "metadata": {
    "ExecuteTime": {
     "end_time": "2021-11-23T20:06:46.545657Z",
     "start_time": "2021-11-23T20:06:46.524662Z"
    }
   },
   "outputs": [],
   "source": [
    "# df_train['GrLivArea'] = temp_train['GrLivArea']\n",
    "# df_test['GrLivArea'] = temp_test['GrLivArea']"
   ]
  },
  {
   "cell_type": "code",
   "execution_count": 165,
   "metadata": {
    "ExecuteTime": {
     "end_time": "2021-11-23T20:06:46.577657Z",
     "start_time": "2021-11-23T20:06:46.555661Z"
    }
   },
   "outputs": [],
   "source": [
    "# df_test[df_test.TotalFullBath.isnull()== True]"
   ]
  },
  {
   "cell_type": "code",
   "execution_count": 166,
   "metadata": {
    "ExecuteTime": {
     "end_time": "2021-11-23T20:06:46.593665Z",
     "start_time": "2021-11-23T20:06:46.585661Z"
    }
   },
   "outputs": [],
   "source": [
    "# df_train[ (df_train.MSSubClass== '210') & (df_train.Neighborhood== 'IDOTRR') & (df_train.LotArea> 14000)]"
   ]
  },
  {
   "cell_type": "code",
   "execution_count": 167,
   "metadata": {
    "ExecuteTime": {
     "end_time": "2021-11-23T20:06:46.625657Z",
     "start_time": "2021-11-23T20:06:46.601661Z"
    }
   },
   "outputs": [],
   "source": [
    "# df_train[ (df_train.MSSubClass== '200') & (df_train.Neighborhood== 'Mitchel') & (df_train.LotArea> 14000)]"
   ]
  },
  {
   "cell_type": "code",
   "execution_count": 168,
   "metadata": {
    "ExecuteTime": {
     "end_time": "2021-11-23T20:06:46.656660Z",
     "start_time": "2021-11-23T20:06:46.633660Z"
    }
   },
   "outputs": [],
   "source": [
    "# ohe = OneHotEncoder(categories='auto')\n",
    "# feature_arr = ohe.fit_transform(df_train[['MSSubClass', 'MSZoning', 'LotConfig', 'Neighborhood',\n",
    "#        'BldgType', 'HouseStyle', 'Exterior1st', 'MasVnrType', 'Foundation',\n",
    "#         'HeatingQC', 'KitchenQual',  'Functional',\n",
    "#        'Fireplaces', 'SaleCondition',  \n",
    "#         'NewCondition', 'NewOverall', 'NewRoof',\n",
    "#        'NewExter', 'NewBase', 'NewGarage']]).toarray()\n",
    "\n",
    "# feature_labels = ohe.categories_\n",
    "# colname = []\n",
    "# for i in feature_labels:\n",
    "#     colname.append(list(i.ravel()))\n",
    "# colname = list(np.concatenate(colname).flat)\n",
    "# features = pd.DataFrame(feature_arr, columns=colname)\n",
    "\n",
    "# new_train = pd.concat([df_train,features],axis = 1)\n"
   ]
  },
  {
   "cell_type": "code",
   "execution_count": 169,
   "metadata": {
    "ExecuteTime": {
     "end_time": "2021-11-23T20:06:46.687671Z",
     "start_time": "2021-11-23T20:06:46.666663Z"
    }
   },
   "outputs": [],
   "source": [
    "# df_test[['MSSubClass', 'MSZoning', 'LotConfig', 'Neighborhood',\n",
    "#        'BldgType', 'HouseStyle', 'Exterior1st', 'MasVnrType', 'Foundation',\n",
    "#         'HeatingQC', 'KitchenQual',  'Functional',\n",
    "#        'Fireplaces', 'SaleCondition',  \n",
    "#         'NewCondition', 'NewOverall', 'NewRoof',\n",
    "#        'NewExter', 'NewBase', 'NewGarage']] = df_test[['MSSubClass', 'MSZoning', 'LotConfig', 'Neighborhood',\n",
    "#        'BldgType', 'HouseStyle', 'Exterior1st', 'MasVnrType', 'Foundation',\n",
    "#         'HeatingQC', 'KitchenQual',  'Functional',\n",
    "#        'Fireplaces', 'SaleCondition',  \n",
    "#         'NewCondition', 'NewOverall', 'NewRoof',\n",
    "#        'NewExter', 'NewBase', 'NewGarage']].astype(str)"
   ]
  },
  {
   "cell_type": "code",
   "execution_count": 170,
   "metadata": {
    "ExecuteTime": {
     "end_time": "2021-11-23T20:06:46.721662Z",
     "start_time": "2021-11-23T20:06:46.697665Z"
    }
   },
   "outputs": [],
   "source": [
    "# feature_arr = ohe.transform(df_test[['MSSubClass', 'MSZoning', 'LotConfig', 'Neighborhood',\n",
    "#        'BldgType', 'HouseStyle', 'Exterior1st', 'MasVnrType', 'Foundation',\n",
    "#         'HeatingQC', 'KitchenQual',  'Functional',\n",
    "#        'Fireplaces', 'SaleCondition',  \n",
    "#         'NewCondition', 'NewOverall', 'NewRoof',\n",
    "#        'NewExter', 'NewBase', 'NewGarage']]).toarray()\n",
    "# features = pd.DataFrame(feature_arr, columns=feature_labels)\n",
    "\n",
    "\n",
    "# new_test = pd.concat([df_test,features],axis = 1)"
   ]
  },
  {
   "cell_type": "code",
   "execution_count": 171,
   "metadata": {
    "ExecuteTime": {
     "end_time": "2021-11-23T20:06:46.975655Z",
     "start_time": "2021-11-23T20:06:46.733663Z"
    }
   },
   "outputs": [],
   "source": [
    "new_train = pd.get_dummies(df_train)\n",
    "new_test = pd.get_dummies(df_test)"
   ]
  },
  {
   "cell_type": "code",
   "execution_count": 172,
   "metadata": {
    "ExecuteTime": {
     "end_time": "2021-11-23T20:06:47.055658Z",
     "start_time": "2021-11-23T20:06:46.981661Z"
    }
   },
   "outputs": [
    {
     "name": "stdout",
     "output_type": "stream",
     "text": [
      "<class 'pandas.core.frame.DataFrame'>\n",
      "Int64Index: 1460 entries, 1 to 1460\n",
      "Columns: 187 entries, LotArea to NewGarage_TATA\n",
      "dtypes: datetime64[ns](1), int64(16), uint8(170)\n",
      "memory usage: 447.7 KB\n"
     ]
    }
   ],
   "source": [
    "new_train.info()"
   ]
  },
  {
   "cell_type": "code",
   "execution_count": 173,
   "metadata": {
    "ExecuteTime": {
     "end_time": "2021-11-23T20:06:47.197662Z",
     "start_time": "2021-11-23T20:06:47.062660Z"
    }
   },
   "outputs": [
    {
     "name": "stdout",
     "output_type": "stream",
     "text": [
      "<class 'pandas.core.frame.DataFrame'>\n",
      "Int64Index: 1459 entries, 1461 to 2919\n",
      "Columns: 181 entries, LotArea to NewGarage_TATA\n",
      "dtypes: datetime64[ns](1), float64(4), int64(11), uint8(165)\n",
      "memory usage: 428.9 KB\n"
     ]
    }
   ],
   "source": [
    "new_test.info()"
   ]
  },
  {
   "cell_type": "code",
   "execution_count": 174,
   "metadata": {
    "ExecuteTime": {
     "end_time": "2021-11-23T20:06:47.229662Z",
     "start_time": "2021-11-23T20:06:47.205662Z"
    }
   },
   "outputs": [
    {
     "data": {
      "text/plain": [
       "{'Exterior1st_ImStucc',\n",
       " 'Exterior1st_Stone',\n",
       " 'NewCondition_FeedrRRAe',\n",
       " 'NewCondition_FeedrRRAn',\n",
       " 'NewCondition_FeedrRRNn',\n",
       " 'NewExter_ExGd',\n",
       " 'NewGarage_ExEx',\n",
       " 'NewGarage_ExTA',\n",
       " 'NewOverall_OEXOEX',\n",
       " 'NewOverall_OGOP',\n",
       " 'NewRoof_FlatCompShg',\n",
       " 'NewRoof_FlatMembran',\n",
       " 'NewRoof_FlatMetal',\n",
       " 'NewRoof_GableRoll',\n",
       " 'NewRoof_GableWdShngl',\n",
       " 'NewRoof_HipClyTile',\n",
       " 'NewRoof_HipWdShngl',\n",
       " 'NewRoof_ShedWdShake',\n",
       " 'SalePrice'}"
      ]
     },
     "execution_count": 174,
     "metadata": {},
     "output_type": "execute_result"
    }
   ],
   "source": [
    "{i for i in new_train.columns}-{i for i in new_test.columns}"
   ]
  },
  {
   "cell_type": "code",
   "execution_count": null,
   "metadata": {},
   "outputs": [],
   "source": []
  },
  {
   "cell_type": "code",
   "execution_count": 175,
   "metadata": {
    "ExecuteTime": {
     "end_time": "2021-11-23T20:06:47.277665Z",
     "start_time": "2021-11-23T20:06:47.237662Z"
    }
   },
   "outputs": [
    {
     "data": {
      "text/plain": [
       "{'NewBase_ExPo',\n",
       " 'NewBase_FaGd',\n",
       " 'NewBase_TAPo',\n",
       " 'NewCondition_FeedrArtery',\n",
       " 'NewCondition_PosAPositive',\n",
       " 'NewExter_FaGd',\n",
       " 'NewExter_FaPo',\n",
       " 'NewExter_GdEx',\n",
       " 'NewExter_GdFa',\n",
       " 'NewGarage_GdEx',\n",
       " 'NewGarage_PoFa',\n",
       " 'NewGarage_TAPo',\n",
       " 'NewRoof_ShedWdShngl'}"
      ]
     },
     "execution_count": 175,
     "metadata": {},
     "output_type": "execute_result"
    }
   ],
   "source": [
    "{i for i in new_test.columns} - {i for i in new_train.columns}"
   ]
  },
  {
   "cell_type": "code",
   "execution_count": 176,
   "metadata": {
    "ExecuteTime": {
     "end_time": "2021-11-23T20:06:47.341660Z",
     "start_time": "2021-11-23T20:06:47.288665Z"
    }
   },
   "outputs": [],
   "source": [
    "for i in {i for i in new_train.columns}-{i for i in new_test.columns}:\n",
    "    new_test[i]=0"
   ]
  },
  {
   "cell_type": "code",
   "execution_count": 177,
   "metadata": {
    "ExecuteTime": {
     "end_time": "2021-11-23T20:06:47.405656Z",
     "start_time": "2021-11-23T20:06:47.350657Z"
    }
   },
   "outputs": [],
   "source": [
    "for i in {i for i in new_test.columns}-{i for i in new_train.columns}:\n",
    "    new_train[i]=0"
   ]
  },
  {
   "cell_type": "code",
   "execution_count": 178,
   "metadata": {
    "ExecuteTime": {
     "end_time": "2021-11-23T20:06:47.501177Z",
     "start_time": "2021-11-23T20:06:47.468178Z"
    }
   },
   "outputs": [],
   "source": [
    "new_labels = pd.DataFrame()\n",
    "new_labels[\"SalePrice\"] = new_train[\"SalePrice\"]\n",
    "# new_labels[\"LogSalePrice\"] = new_train[\"LogSalePrice\"]"
   ]
  },
  {
   "cell_type": "code",
   "execution_count": 179,
   "metadata": {
    "ExecuteTime": {
     "end_time": "2021-11-23T20:06:47.533142Z",
     "start_time": "2021-11-23T20:06:47.506178Z"
    }
   },
   "outputs": [],
   "source": [
    "del new_train[\"SalePrice\"]\n",
    "del new_test[\"SalePrice\"]\n",
    "# del new_train[\"LogSalePrice\"]\n",
    "# del new_test[\"LogSalePrice\"]"
   ]
  },
  {
   "cell_type": "code",
   "execution_count": 180,
   "metadata": {
    "ExecuteTime": {
     "end_time": "2021-11-23T20:06:47.657140Z",
     "start_time": "2021-11-23T20:06:47.540144Z"
    }
   },
   "outputs": [],
   "source": [
    "new_train.NewDateSold = new_train.NewDateSold.apply(lambda x: x.date())\n",
    "new_test.NewDateSold = new_test.NewDateSold.apply(lambda x: x.date())"
   ]
  },
  {
   "cell_type": "code",
   "execution_count": 181,
   "metadata": {
    "ExecuteTime": {
     "end_time": "2021-11-23T20:06:47.687146Z",
     "start_time": "2021-11-23T20:06:47.665142Z"
    }
   },
   "outputs": [],
   "source": [
    "# min(new_train.NewDateSold)\n",
    "# max(new_train.NewDateSold)\n",
    "# min(new_test.NewDateSold)\n",
    "# max(new_test.NewDateSold)"
   ]
  },
  {
   "cell_type": "code",
   "execution_count": 182,
   "metadata": {
    "ExecuteTime": {
     "end_time": "2021-11-23T20:06:47.751144Z",
     "start_time": "2021-11-23T20:06:47.695148Z"
    }
   },
   "outputs": [],
   "source": [
    "new_train.NewDateSold = datetime.date(2010,8,1)-new_train.NewDateSold\n",
    "new_test.NewDateSold = datetime.date(2010,8,1)-new_test.NewDateSold"
   ]
  },
  {
   "cell_type": "code",
   "execution_count": 183,
   "metadata": {
    "ExecuteTime": {
     "end_time": "2021-11-23T20:06:47.783140Z",
     "start_time": "2021-11-23T20:06:47.757144Z"
    }
   },
   "outputs": [],
   "source": [
    "new_train.NewDateSold = (new_train.NewDateSold / np.timedelta64(1, 'D')).astype(int)\n",
    "new_test.NewDateSold = (new_test.NewDateSold / np.timedelta64(1, 'D')).astype(int)"
   ]
  },
  {
   "cell_type": "code",
   "execution_count": 184,
   "metadata": {
    "ExecuteTime": {
     "end_time": "2021-11-23T20:06:47.815140Z",
     "start_time": "2021-11-23T20:06:47.789142Z"
    }
   },
   "outputs": [
    {
     "data": {
      "text/plain": [
       "153"
      ]
     },
     "execution_count": 184,
     "metadata": {},
     "output_type": "execute_result"
    }
   ],
   "source": [
    "(new_test.NewDateSold.iloc[2])"
   ]
  },
  {
   "cell_type": "code",
   "execution_count": 185,
   "metadata": {
    "ExecuteTime": {
     "end_time": "2021-11-23T20:06:47.863145Z",
     "start_time": "2021-11-23T20:06:47.820143Z"
    }
   },
   "outputs": [],
   "source": [
    "np.random.seed(0) # Using this to ensure repeatable results - May remove it before production\n",
    "\n",
    "df_data_array = np.asarray(new_train)\n",
    "df_labels_array = np.asarray(new_labels[\"SalePrice\"])\n",
    "\n",
    "dataset_size = df_data_array.shape[0]\n",
    "\n",
    "shuffle = np.random.permutation(np.arange(dataset_size))\n",
    "X, Y = df_data_array[shuffle], df_labels_array[shuffle]\n",
    "\n",
    "split = int(dataset_size*0.8) # 80/20 split between train and dev data\n",
    "\n",
    "train_data, train_labels = X[:split], Y[:split]\n",
    "dev_data, dev_labels = X[split:], Y[split:]"
   ]
  },
  {
   "cell_type": "code",
   "execution_count": 186,
   "metadata": {
    "ExecuteTime": {
     "end_time": "2021-11-23T20:06:47.894143Z",
     "start_time": "2021-11-23T20:06:47.873149Z"
    }
   },
   "outputs": [],
   "source": [
    "# np.log(85000)"
   ]
  },
  {
   "cell_type": "code",
   "execution_count": 187,
   "metadata": {
    "ExecuteTime": {
     "end_time": "2021-11-23T20:06:47.925143Z",
     "start_time": "2021-11-23T20:06:47.902147Z"
    }
   },
   "outputs": [],
   "source": [
    "# from sklearn.decomposition import PCA\n",
    "\n",
    "# # pca = PCA(n_components = train_data.shape[1])\n",
    "# pca = PCA(n_components = 6)\n",
    "# components = pca.fit_transform(train_data)\n",
    "\n",
    "# df = pd.DataFrame(data = components)\n",
    "\n",
    "# components_d = pca.transform(dev_data)\n",
    "\n",
    "# df1 = pd.DataFrame(data = components_d)\n",
    "# # var = []\n",
    "\n",
    "# # for i in range(train_data.shape[1]):\n",
    "# #     var.append(sum(pca.explained_variance_ratio_[:i+1]))  \n",
    "\n",
    "# # plt.figure(figsize = (10,2))\n",
    "# # print('\\n')\n",
    "# # plt.plot(range(1,train_data.shape[1]+1),var)\n",
    "# # plt.xlabel(\"# of first principal components\")\n",
    "# # plt.ylabel(\"Fraction of the total variance explained\")\n",
    "# # plt.title(\"Principal components vs. Fraction of total variance\")\n",
    "# # plt.xticks(range(1, 250,5))\n",
    "# # plt.show()"
   ]
  },
  {
   "cell_type": "code",
   "execution_count": 188,
   "metadata": {
    "ExecuteTime": {
     "end_time": "2021-11-23T20:06:47.957144Z",
     "start_time": "2021-11-23T20:06:47.936142Z"
    }
   },
   "outputs": [],
   "source": [
    "from xgboost import XGBRegressor"
   ]
  },
  {
   "cell_type": "code",
   "execution_count": 189,
   "metadata": {
    "ExecuteTime": {
     "end_time": "2021-11-23T20:06:48.037140Z",
     "start_time": "2021-11-23T20:06:47.964143Z"
    }
   },
   "outputs": [
    {
     "name": "stdout",
     "output_type": "stream",
     "text": [
      "RMSE 20563.32348\n",
      "RMSE_LOG 0.11011\n"
     ]
    }
   ],
   "source": [
    "lr = LinearRegression(fit_intercept=True)\n",
    "# lr = RandomForestRegressor()\n",
    "# lr = XGBRegressor()\n",
    "\n",
    "lr.fit(train_data,np.log(train_labels))\n",
    "# lr.fit(df,np.log(train_labels))\n",
    "predictions = lr.predict(dev_data)\n",
    "# predictions = lr.predict(df1)\n",
    "\n",
    "# for i in np.where(predictions > 15):\n",
    "#     predictions[i] = 13.12\n",
    "\n",
    "# for i in np.where(predictions < 5):\n",
    "#     predictions[i] = 11.35\n",
    "\n",
    "\n",
    "\n",
    "# error_dev = lr.score(dev_data, dev_labels)\n",
    "# error_train = lr.score(train_data,train_labels)\n",
    "\n",
    "\n",
    "rmse = (mean_squared_error(dev_labels, np.exp(predictions)))**(1/2)\n",
    "rmse_log = (mean_squared_log_error(dev_labels, np.exp(predictions)))**(1/2)\n",
    "# print (f'R^2 on train data {error_train:.5f}')\n",
    "# print (f'R^2 on dev data {error_dev:.5f}')\n",
    "print (f'RMSE {rmse:.5f}')\n",
    "print (f'RMSE_LOG {rmse_log:.5f}')\n"
   ]
  },
  {
   "cell_type": "code",
   "execution_count": null,
   "metadata": {
    "ExecuteTime": {
     "end_time": "2021-11-23T05:05:15.178386Z",
     "start_time": "2021-11-23T05:05:15.150399Z"
    }
   },
   "outputs": [],
   "source": []
  },
  {
   "cell_type": "code",
   "execution_count": 190,
   "metadata": {
    "ExecuteTime": {
     "end_time": "2021-11-23T20:06:48.067141Z",
     "start_time": "2021-11-23T20:06:48.045144Z"
    }
   },
   "outputs": [],
   "source": [
    "# sub_df = pd.DataFrame(np.exp(predictions_submit) , columns = 'SalePrice')"
   ]
  },
  {
   "cell_type": "code",
   "execution_count": 191,
   "metadata": {
    "ExecuteTime": {
     "end_time": "2021-11-23T20:06:48.161141Z",
     "start_time": "2021-11-23T20:06:48.076148Z"
    }
   },
   "outputs": [],
   "source": [
    "predictions_submit = lr.predict(new_test)\n",
    "\n",
    "sub_df = pd.DataFrame(df_test.index, columns = ['Id'])\n",
    "sub_df['SalePrice'] = np.exp(predictions_submit)\n",
    "sub_df = sub_df.set_index('Id')\n",
    "\n",
    "sub_df.to_csv('submission.csv')"
   ]
  },
  {
   "cell_type": "code",
   "execution_count": 202,
   "metadata": {
    "ExecuteTime": {
     "end_time": "2021-11-23T05:05:43.351991Z",
     "start_time": "2021-11-23T05:05:43.333984Z"
    }
   },
   "outputs": [],
   "source": []
  },
  {
   "cell_type": "code",
   "execution_count": 203,
   "metadata": {
    "ExecuteTime": {
     "end_time": "2021-11-23T05:05:48.123939Z",
     "start_time": "2021-11-23T05:05:48.094948Z"
    }
   },
   "outputs": [],
   "source": []
  },
  {
   "cell_type": "code",
   "execution_count": null,
   "metadata": {},
   "outputs": [],
   "source": []
  },
  {
   "cell_type": "code",
   "execution_count": null,
   "metadata": {},
   "outputs": [],
   "source": []
  },
  {
   "cell_type": "code",
   "execution_count": null,
   "metadata": {},
   "outputs": [],
   "source": []
  },
  {
   "cell_type": "code",
   "execution_count": null,
   "metadata": {},
   "outputs": [],
   "source": []
  },
  {
   "cell_type": "code",
   "execution_count": null,
   "metadata": {},
   "outputs": [],
   "source": []
  },
  {
   "cell_type": "code",
   "execution_count": null,
   "metadata": {},
   "outputs": [],
   "source": []
  },
  {
   "cell_type": "code",
   "execution_count": null,
   "metadata": {},
   "outputs": [],
   "source": []
  },
  {
   "cell_type": "code",
   "execution_count": null,
   "metadata": {},
   "outputs": [],
   "source": []
  },
  {
   "cell_type": "code",
   "execution_count": null,
   "metadata": {},
   "outputs": [],
   "source": []
  },
  {
   "cell_type": "code",
   "execution_count": null,
   "metadata": {},
   "outputs": [],
   "source": []
  },
  {
   "cell_type": "code",
   "execution_count": null,
   "metadata": {},
   "outputs": [],
   "source": []
  },
  {
   "cell_type": "code",
   "execution_count": null,
   "metadata": {},
   "outputs": [],
   "source": []
  },
  {
   "cell_type": "code",
   "execution_count": null,
   "metadata": {},
   "outputs": [],
   "source": []
  },
  {
   "cell_type": "code",
   "execution_count": null,
   "metadata": {},
   "outputs": [],
   "source": []
  },
  {
   "cell_type": "code",
   "execution_count": null,
   "metadata": {},
   "outputs": [],
   "source": []
  },
  {
   "cell_type": "code",
   "execution_count": null,
   "metadata": {},
   "outputs": [],
   "source": []
  },
  {
   "cell_type": "code",
   "execution_count": null,
   "metadata": {},
   "outputs": [],
   "source": []
  },
  {
   "cell_type": "code",
   "execution_count": null,
   "metadata": {},
   "outputs": [],
   "source": []
  },
  {
   "cell_type": "code",
   "execution_count": null,
   "metadata": {},
   "outputs": [],
   "source": []
  },
  {
   "cell_type": "code",
   "execution_count": null,
   "metadata": {},
   "outputs": [],
   "source": []
  },
  {
   "cell_type": "code",
   "execution_count": null,
   "metadata": {},
   "outputs": [],
   "source": []
  },
  {
   "cell_type": "code",
   "execution_count": null,
   "metadata": {},
   "outputs": [],
   "source": []
  },
  {
   "cell_type": "code",
   "execution_count": null,
   "metadata": {
    "ExecuteTime": {
     "end_time": "2021-11-23T02:10:46.896116Z",
     "start_time": "2021-11-23T02:10:46.884115Z"
    }
   },
   "outputs": [],
   "source": [
    "# df_train.columns"
   ]
  },
  {
   "cell_type": "code",
   "execution_count": null,
   "metadata": {
    "ExecuteTime": {
     "end_time": "2021-11-23T02:10:46.927116Z",
     "start_time": "2021-11-23T02:10:46.900115Z"
    }
   },
   "outputs": [],
   "source": [
    "# null_values = df_train.isnull().sum()\n",
    "# print(null_values)"
   ]
  },
  {
   "cell_type": "code",
   "execution_count": null,
   "metadata": {
    "ExecuteTime": {
     "end_time": "2021-11-23T02:10:46.959113Z",
     "start_time": "2021-11-23T02:10:46.931117Z"
    }
   },
   "outputs": [],
   "source": [
    "# null_values = df_test.isnull().sum()\n",
    "# print(null_values)"
   ]
  },
  {
   "cell_type": "code",
   "execution_count": null,
   "metadata": {
    "ExecuteTime": {
     "end_time": "2021-11-23T02:10:47.765463Z",
     "start_time": "2021-11-23T02:10:47.765463Z"
    }
   },
   "outputs": [],
   "source": [
    "# df_train['BldgType'].replace(['Twnhs', 'Duplex', '2fmCon'], ['TwnhsI','Duplx','2FmCon'],inplace=True)\n",
    "# df_test['BldgType'].replace(['Twnhs', 'Duplex', '2fmCon'], ['TwnhsI','Duplx','2FmCon'],inplace=True)"
   ]
  },
  {
   "cell_type": "code",
   "execution_count": null,
   "metadata": {
    "ExecuteTime": {
     "end_time": "2021-11-23T02:10:47.768463Z",
     "start_time": "2021-11-23T02:10:47.768463Z"
    }
   },
   "outputs": [],
   "source": [
    "# df_train['FireplaceQu'] = df_train.FireplaceQu.fillna('NA')\n",
    "# df_test['FireplaceQu'] = df_test.FireplaceQu.fillna('NA')\n",
    "\n",
    "# df_train['LotFrontage'] = df_train.LotFrontage.fillna(70)\n",
    "# df_test['LotFrontage'] = df_test.LotFrontage.fillna(70)\n",
    "\n",
    "# df_test['Utilities'] = df_test.Utilities.fillna('NoSeWa')\n",
    "\n",
    "# df_test['MSZoning'] = df_test.MSZoning.fillna('RL')\n",
    "\n",
    "# df_test['MasVnrType'] = df_test.MasVnrType.fillna('None')\n",
    "# df_train['MasVnrType'] = df_train.MasVnrType.fillna('None')\n",
    "# df_test['MasVnrArea'] = df_test.MasVnrArea.fillna(0)\n",
    "# df_train['MasVnrArea'] = df_train.MasVnrArea.fillna(0)\n",
    "\n",
    "# df_test['Exterior1st'] = df_test.Exterior1st.fillna('BrkFace')\n",
    "# df_test['Exterior2nd'] = df_test.Exterior2nd.fillna('BrkFace')\n",
    "\n",
    "\n",
    "# df_test['BsmtQual'] = df_test.BsmtQual.fillna('NA')\n",
    "# df_train['BsmtQual'] = df_train.BsmtQual.fillna('NA')\n",
    "# df_test['BsmtCond'] = df_test.BsmtCond.fillna('NA')\n",
    "# df_train['BsmtCond'] = df_train.BsmtCond.fillna('NA')\n",
    "\n",
    "# df_test['BsmtExposure'] = df_test.BsmtExposure.fillna('NA')\n",
    "# df_train['BsmtExposure'] = df_train.BsmtExposure.fillna('NA')\n",
    "# df_test['BsmtFinType1'] = df_test.BsmtFinType1.fillna('NA')\n",
    "# df_train['BsmtFinType1'] = df_train.BsmtFinType1.fillna('NA')\n",
    "\n",
    "# df_test['BsmtFinType2'] = df_test.BsmtFinType2.fillna('NA')\n",
    "# df_train['BsmtFinType2'] = df_train.BsmtFinType2.fillna('NA')\n",
    "# df_test['BsmtFinSF1'] = df_test.BsmtFinSF1.fillna(0)\n",
    "# df_train['BsmtFinSF1'] = df_train.BsmtFinSF1.fillna(0)\n",
    "\n",
    "\n",
    "# df_test['BsmtFinSF2'] = df_test.BsmtFinSF2.fillna(0)\n",
    "# df_train['BsmtFinSF2'] = df_train.BsmtFinSF2.fillna(0)\n",
    "\n",
    "# df_test['BsmtUnfSF'] = df_test.BsmtUnfSF.fillna(0)\n",
    "\n",
    "# df_test['TotalBsmtSF'] = df_test.TotalBsmtSF.fillna(0)\n",
    "\n",
    "# df_train['Electrical'] = df_train.Electrical.fillna('SBrkr')\n",
    "\n",
    "# df_test['KitchenQual'] = df_test.KitchenQual.fillna('TA')\n",
    "# df_test['Functional'] = df_test.Functional.fillna('Typ')\n",
    "\n"
   ]
  },
  {
   "cell_type": "code",
   "execution_count": null,
   "metadata": {
    "ExecuteTime": {
     "end_time": "2021-11-23T02:10:47.773473Z",
     "start_time": "2021-11-23T02:10:47.773473Z"
    }
   },
   "outputs": [],
   "source": [
    "# df_train['GarageType'] = df_train.GarageType.fillna('NA')\n",
    "# df_test['GarageType'] = df_test.GarageType.fillna('NA')\n",
    "\n",
    "# df_train['GarageCond'] = df_train.GarageCond.fillna('NA')\n",
    "# df_test['GarageCond'] = df_test.GarageCond.fillna('NA')\n",
    "\n",
    "# df_test['GarageCars'] = df_test.GarageCars.fillna(0)\n"
   ]
  },
  {
   "cell_type": "code",
   "execution_count": null,
   "metadata": {
    "ExecuteTime": {
     "end_time": "2021-11-23T02:10:47.777465Z",
     "start_time": "2021-11-23T02:10:47.777465Z"
    }
   },
   "outputs": [],
   "source": [
    "# def oencoder(df, column_name, cat_list):\n",
    "#     encoder = OrdinalEncoder(categories=[cat_list], handle_unknown = \"use_encoded_value\", unknown_value = -1)\n",
    "#     df[column_name] = encoder.fit_transform(df.loc[:,[column_name]])\n",
    "\n",
    "#     return\n",
    "    "
   ]
  },
  {
   "cell_type": "code",
   "execution_count": null,
   "metadata": {
    "ExecuteTime": {
     "end_time": "2021-11-23T02:10:47.782467Z",
     "start_time": "2021-11-23T02:10:47.782467Z"
    }
   },
   "outputs": [],
   "source": [
    "# tobe_enc = {\n",
    "#     'LotShape':['IR3','IR2','IR1','Reg'],\n",
    "#     'LandContour':['Low','HLS','Bnk','Lvl'],\n",
    "#     'Utilities':['ELO','NoSeWa','NoSewr','AllPub'],\n",
    "#     'LandSlope':['Gtl','Mod','Sev'],\n",
    "#     'ExterQual':['Po','Fa','TA','Gd','Ex'],\n",
    "#     'ExterCond':['Po','Fa','TA','Gd','Ex'],\n",
    "#     'HeatingQC':['Po','Fa','TA','Gd','Ex'],\n",
    "#     'KitchenQual':['Po','Fa','TA','Gd','Ex'],\n",
    "#     'Functional':['Sal','Sev','Maj2','Maj1','Mod','Min2','Min1','Typ'],\n",
    "#     'PavedDrive':['N','P','Y'],\n",
    "#     'BldgType':['TwnhsI','TwnhsE','Duplx','2FmCon','1Fam'],\n",
    "#     'BsmtQual':['NA','Po','Fa','TA','Gd','Ex'],\n",
    "#     'BsmtCond':['NA','Po','Fa','TA','Gd','Ex'],\n",
    "#     'BsmtExposure':['NA','No','Mn','Av','Gd'],\n",
    "#     'BsmtFinType1':['NA','Unf','LwQ','Rec','BLQ','ALQ','GLQ'],\n",
    "#     'BsmtFinType2':['NA','Unf','LwQ','Rec','BLQ','ALQ','GLQ'],\n",
    "#     'CentralAir':['N','Y'],\n",
    "#     'Electrical':['Mix','FuseP','FuseF','FuseA','SBrkr'],\n",
    "#     'FireplaceQu':['NA','Po','Fa','TA','Gd','Ex']  \n",
    "# }"
   ]
  },
  {
   "cell_type": "code",
   "execution_count": null,
   "metadata": {
    "ExecuteTime": {
     "end_time": "2021-11-23T02:10:47.806464Z",
     "start_time": "2021-11-23T02:10:47.806464Z"
    }
   },
   "outputs": [],
   "source": [
    "# for i in tobe_enc:\n",
    "#     oencoder(df_train, i, tobe_enc[i])"
   ]
  },
  {
   "cell_type": "code",
   "execution_count": null,
   "metadata": {
    "ExecuteTime": {
     "end_time": "2021-11-23T02:10:47.808463Z",
     "start_time": "2021-11-23T02:10:47.808463Z"
    }
   },
   "outputs": [],
   "source": [
    "# for i in tobe_enc:\n",
    "#     oencoder(df_test, i, tobe_enc[i])"
   ]
  },
  {
   "cell_type": "code",
   "execution_count": null,
   "metadata": {
    "ExecuteTime": {
     "end_time": "2021-11-23T02:10:47.813463Z",
     "start_time": "2021-11-23T02:10:47.813463Z"
    }
   },
   "outputs": [],
   "source": [
    "# sns.histplot(data=df_train, x=\"SalePrice\")\n",
    "# plt.show()"
   ]
  },
  {
   "cell_type": "code",
   "execution_count": null,
   "metadata": {
    "ExecuteTime": {
     "end_time": "2021-11-23T02:10:47.817466Z",
     "start_time": "2021-11-23T02:10:47.817466Z"
    }
   },
   "outputs": [],
   "source": [
    "# df_train[df_train.GrLivArea > 4300]"
   ]
  },
  {
   "cell_type": "code",
   "execution_count": null,
   "metadata": {
    "ExecuteTime": {
     "end_time": "2021-11-23T02:10:47.821467Z",
     "start_time": "2021-11-23T02:10:47.821467Z"
    }
   },
   "outputs": [],
   "source": [
    "# df_train[df_train.SalePrice > 600000]"
   ]
  },
  {
   "cell_type": "code",
   "execution_count": null,
   "metadata": {
    "ExecuteTime": {
     "end_time": "2021-11-23T02:10:47.824463Z",
     "start_time": "2021-11-23T02:10:47.824463Z"
    }
   },
   "outputs": [],
   "source": [
    "# df_train.drop(df_train[df_train.SalePrice > 740000].index, inplace = True)"
   ]
  },
  {
   "cell_type": "code",
   "execution_count": null,
   "metadata": {
    "ExecuteTime": {
     "end_time": "2021-11-23T02:10:47.827464Z",
     "start_time": "2021-11-23T02:10:47.827464Z"
    }
   },
   "outputs": [],
   "source": [
    "# df_train_cluster = df_train.copy()\n",
    "# num = 3\n",
    "# km = KMeans(n_clusters = num)\n",
    "# kmtrain = km.fit_predict(df_train_cluster)"
   ]
  },
  {
   "cell_type": "code",
   "execution_count": null,
   "metadata": {
    "ExecuteTime": {
     "end_time": "2021-11-23T02:10:47.831467Z",
     "start_time": "2021-11-23T02:10:47.831467Z"
    }
   },
   "outputs": [],
   "source": [
    "# oneenc = OneHotEncoder()"
   ]
  },
  {
   "cell_type": "code",
   "execution_count": null,
   "metadata": {
    "ExecuteTime": {
     "end_time": "2021-11-23T02:10:47.833463Z",
     "start_time": "2021-11-23T02:10:47.833463Z"
    }
   },
   "outputs": [],
   "source": [
    "# new_df_train = df_train\n",
    "# model = oneenc.fit(new_df_train)\n",
    "# new_train = model.transform(new_df_train)"
   ]
  },
  {
   "cell_type": "code",
   "execution_count": null,
   "metadata": {
    "ExecuteTime": {
     "end_time": "2021-11-23T02:10:47.836467Z",
     "start_time": "2021-11-23T02:10:47.836467Z"
    }
   },
   "outputs": [],
   "source": [
    "# new_test = model.transform(df_test)"
   ]
  },
  {
   "cell_type": "code",
   "execution_count": null,
   "metadata": {
    "ExecuteTime": {
     "end_time": "2021-11-23T02:10:47.839463Z",
     "start_time": "2021-11-23T02:10:47.839463Z"
    }
   },
   "outputs": [],
   "source": [
    "# new_train = pd.get_dummies(df_train)\n",
    "# new_test = pd.get_dummies(df_test)"
   ]
  },
  {
   "cell_type": "code",
   "execution_count": null,
   "metadata": {
    "ExecuteTime": {
     "end_time": "2021-11-23T02:10:47.841461Z",
     "start_time": "2021-11-23T02:10:47.841461Z"
    }
   },
   "outputs": [],
   "source": [
    "# print(new_train.shape)\n",
    "# print(new_test.shape)"
   ]
  },
  {
   "cell_type": "code",
   "execution_count": null,
   "metadata": {
    "ExecuteTime": {
     "end_time": "2021-11-23T02:10:47.846463Z",
     "start_time": "2021-11-23T02:10:47.846463Z"
    }
   },
   "outputs": [],
   "source": [
    "# for i in {i for i in new_train.columns}-{i for i in new_test.columns}:\n",
    "#     new_test[i]=0"
   ]
  },
  {
   "cell_type": "code",
   "execution_count": null,
   "metadata": {
    "ExecuteTime": {
     "end_time": "2021-11-23T02:10:47.849467Z",
     "start_time": "2021-11-23T02:10:47.849467Z"
    }
   },
   "outputs": [],
   "source": [
    "# del new_test['SalePrice']"
   ]
  },
  {
   "cell_type": "code",
   "execution_count": null,
   "metadata": {
    "ExecuteTime": {
     "end_time": "2021-11-23T02:10:47.852465Z",
     "start_time": "2021-11-23T02:10:47.852465Z"
    }
   },
   "outputs": [],
   "source": [
    "# new_train.head()"
   ]
  },
  {
   "cell_type": "code",
   "execution_count": null,
   "metadata": {
    "ExecuteTime": {
     "end_time": "2021-11-23T02:10:47.854463Z",
     "start_time": "2021-11-23T02:10:47.854463Z"
    }
   },
   "outputs": [],
   "source": [
    "# null_values = new_train.isnull().sum()\n",
    "# print(null_values)"
   ]
  },
  {
   "cell_type": "code",
   "execution_count": null,
   "metadata": {
    "ExecuteTime": {
     "end_time": "2021-11-23T02:10:47.857462Z",
     "start_time": "2021-11-23T02:10:47.857462Z"
    }
   },
   "outputs": [],
   "source": [
    "# null_values = new_test.isnull().sum()\n",
    "# print(null_values)"
   ]
  },
  {
   "cell_type": "code",
   "execution_count": null,
   "metadata": {
    "ExecuteTime": {
     "end_time": "2021-11-23T02:10:47.860462Z",
     "start_time": "2021-11-23T02:10:47.860462Z"
    }
   },
   "outputs": [],
   "source": [
    "# new_train['LotFrontage'].describe()\n",
    "# new_train['GarageYrBlt'].describe()\n",
    "# new_train['MasVnrArea'].describe()"
   ]
  },
  {
   "cell_type": "code",
   "execution_count": null,
   "metadata": {
    "ExecuteTime": {
     "end_time": "2021-11-23T02:10:47.863463Z",
     "start_time": "2021-11-23T02:10:47.863463Z"
    }
   },
   "outputs": [],
   "source": [
    "# del new_train['GarageYrBlt']\n",
    "# del new_test['GarageYrBlt']"
   ]
  },
  {
   "cell_type": "code",
   "execution_count": null,
   "metadata": {
    "ExecuteTime": {
     "end_time": "2021-11-23T02:10:47.866461Z",
     "start_time": "2021-11-23T02:10:47.865464Z"
    }
   },
   "outputs": [],
   "source": [
    "# new_train['LotFrontage'] = new_train.LotFrontage.fillna(70)\n",
    "# new_test['LotFrontage'] = new_test.LotFrontage.fillna(70)"
   ]
  },
  {
   "cell_type": "code",
   "execution_count": null,
   "metadata": {
    "ExecuteTime": {
     "end_time": "2021-11-23T02:10:47.868465Z",
     "start_time": "2021-11-23T02:10:47.868465Z"
    }
   },
   "outputs": [],
   "source": [
    "# new_test[new_test['BsmtFinSF1'].isnull()]\n",
    "# new_test['BsmtFinSF1'].describe()"
   ]
  },
  {
   "cell_type": "code",
   "execution_count": null,
   "metadata": {
    "ExecuteTime": {
     "end_time": "2021-11-23T02:10:47.871465Z",
     "start_time": "2021-11-23T02:10:47.871465Z"
    }
   },
   "outputs": [],
   "source": [
    "# new_train['MasVnrArea']=new_train.MasVnrArea.fillna(0)\n",
    "# new_test['MasVnrArea']=new_test.MasVnrArea.fillna(0)"
   ]
  },
  {
   "cell_type": "code",
   "execution_count": null,
   "metadata": {
    "ExecuteTime": {
     "end_time": "2021-11-23T02:10:47.874464Z",
     "start_time": "2021-11-23T02:10:47.874464Z"
    }
   },
   "outputs": [],
   "source": [
    "# new_test['BsmtFinSF1'] = new_test.BsmtFinSF1.fillna(0)\n",
    "# new_test['BsmtFinSF2'] = new_test.BsmtFinSF2.fillna(0)\n",
    "# new_test['BsmtUnfSF'] = new_test.BsmtUnfSF.fillna(0)\n",
    "# new_test['TotalBsmtSF'] = new_test.TotalBsmtSF.fillna(0)\n",
    "# new_test['BsmtFullBath'] = new_test.BsmtFullBath.fillna(0)\n",
    "# new_test['BsmtHalfBath'] = new_test.BsmtHalfBath.fillna(0)\n",
    "# new_test['GarageCars'] = new_test.GarageCars.fillna(0)\n",
    "# new_test['GarageArea'] = new_test.GarageArea.fillna(0)"
   ]
  },
  {
   "cell_type": "code",
   "execution_count": null,
   "metadata": {
    "ExecuteTime": {
     "end_time": "2021-11-23T02:10:47.877464Z",
     "start_time": "2021-11-23T02:10:47.877464Z"
    }
   },
   "outputs": [],
   "source": [
    "# new_train_cluster = new_train.copy()\n",
    "# del new_train_cluster['SalePrice']"
   ]
  },
  {
   "cell_type": "code",
   "execution_count": null,
   "metadata": {
    "ExecuteTime": {
     "end_time": "2021-11-23T02:10:47.897465Z",
     "start_time": "2021-11-23T02:10:47.897465Z"
    }
   },
   "outputs": [],
   "source": [
    "# new_train_cluster['cluster']=kmtrain"
   ]
  },
  {
   "cell_type": "code",
   "execution_count": null,
   "metadata": {
    "ExecuteTime": {
     "end_time": "2021-11-23T02:10:47.901465Z",
     "start_time": "2021-11-23T02:10:47.901465Z"
    }
   },
   "outputs": [],
   "source": [
    "# {i for i in km.feature_names_in_}-{i for i in new_test.columns}"
   ]
  },
  {
   "cell_type": "code",
   "execution_count": null,
   "metadata": {
    "ExecuteTime": {
     "end_time": "2021-11-23T02:10:47.904464Z",
     "start_time": "2021-11-23T02:10:47.904464Z"
    }
   },
   "outputs": [],
   "source": [
    "# kmtest = km.predict(new_test)"
   ]
  },
  {
   "cell_type": "code",
   "execution_count": null,
   "metadata": {
    "ExecuteTime": {
     "end_time": "2021-11-23T02:10:47.908465Z",
     "start_time": "2021-11-23T02:10:47.908465Z"
    }
   },
   "outputs": [],
   "source": [
    "# new_test_cluster = new_test.copy()\n",
    "# new_test_cluster['cluster']=kmtest"
   ]
  },
  {
   "cell_type": "code",
   "execution_count": null,
   "metadata": {
    "ExecuteTime": {
     "end_time": "2021-11-23T02:10:47.911489Z",
     "start_time": "2021-11-23T02:10:47.911489Z"
    }
   },
   "outputs": [],
   "source": [
    "# for i in range(num):\n",
    "#     globals()['cluster_{}'.format(i)]  = new_train_cluster[new_train_cluster['cluster']==i].copy()"
   ]
  },
  {
   "cell_type": "code",
   "execution_count": null,
   "metadata": {
    "ExecuteTime": {
     "end_time": "2021-11-23T02:10:47.915468Z",
     "start_time": "2021-11-23T02:10:47.915468Z"
    }
   },
   "outputs": [],
   "source": [
    "# for i in range(num):\n",
    "#     print(len(globals()['cluster_{}'.format(i)].index))\n",
    "#     globals()['cluster_{}'.format(i)] = shuffle(globals()['cluster_{}'.format(i)])"
   ]
  },
  {
   "cell_type": "code",
   "execution_count": null,
   "metadata": {
    "ExecuteTime": {
     "end_time": "2021-11-23T02:10:47.917462Z",
     "start_time": "2021-11-23T02:10:47.917462Z"
    }
   },
   "outputs": [],
   "source": [
    "# new_train.loc[cluster_1.index]['SalePrice']"
   ]
  },
  {
   "cell_type": "code",
   "execution_count": null,
   "metadata": {
    "ExecuteTime": {
     "end_time": "2021-11-23T02:10:47.920463Z",
     "start_time": "2021-11-23T02:10:47.920463Z"
    }
   },
   "outputs": [],
   "source": [
    "# cluster_0_train = cluster_0[:373]\n",
    "# cluster_1_train = cluster_1[:3]\n",
    "# cluster_2_train = cluster_2[:705]\n",
    "# cluster_3_train = cluster_3[:14]\n",
    "\n",
    "# cluster_0_tlabel = new_train.loc[cluster_0.index]['SalePrice'].copy()[:373]\n",
    "# cluster_1_tlabel = new_train.loc[cluster_1.index]['SalePrice'].copy()[:3]\n",
    "# cluster_2_tlabel = new_train.loc[cluster_2.index]['SalePrice'].copy()[:705]\n",
    "# cluster_3_tlabel = new_train.loc[cluster_3.index]['SalePrice'].copy()[:14]\n",
    "\n",
    "# cluster_0_dev = cluster_0[373:]\n",
    "# cluster_1_dev = cluster_1[3:]\n",
    "# cluster_2_dev = cluster_2[705:]\n",
    "# cluster_3_dev = cluster_3[14:]\n",
    "\n",
    "# cluster_0_dlabel = new_train.loc[cluster_0.index]['SalePrice'].copy()[373:]\n",
    "# cluster_1_dlabel = new_train.loc[cluster_1.index]['SalePrice'].copy()[3:]\n",
    "# cluster_2_dlabel = new_train.loc[cluster_2.index]['SalePrice'].copy()[705:]\n",
    "# cluster_3_dlabel = new_train.loc[cluster_3.index]['SalePrice'].copy()[14:]\n"
   ]
  },
  {
   "cell_type": "code",
   "execution_count": null,
   "metadata": {
    "ExecuteTime": {
     "end_time": "2021-11-23T02:10:47.924465Z",
     "start_time": "2021-11-23T02:10:47.923464Z"
    }
   },
   "outputs": [],
   "source": [
    "# rg = RandomForestRegressor()\n",
    "# # model_0 = rg.fit(cluster_0_train,cluster_0_label)"
   ]
  },
  {
   "cell_type": "code",
   "execution_count": null,
   "metadata": {
    "ExecuteTime": {
     "end_time": "2021-11-23T02:10:47.927467Z",
     "start_time": "2021-11-23T02:10:47.927467Z"
    }
   },
   "outputs": [],
   "source": [
    "# for i in range(num):\n",
    "#     globals()['model_{}'.format(i)] = rg.fit(globals()['cluster_{}_train'.format(i)],globals()['cluster_{}_tlabel'.format(i)])\n",
    "    "
   ]
  },
  {
   "cell_type": "code",
   "execution_count": null,
   "metadata": {
    "ExecuteTime": {
     "end_time": "2021-11-23T02:10:47.932477Z",
     "start_time": "2021-11-23T02:10:47.932477Z"
    }
   },
   "outputs": [],
   "source": [
    "# pred_2 = model_2.predict(cluster_2_dev)"
   ]
  },
  {
   "cell_type": "code",
   "execution_count": null,
   "metadata": {
    "ExecuteTime": {
     "end_time": "2021-11-23T02:10:47.935465Z",
     "start_time": "2021-11-23T02:10:47.935465Z"
    }
   },
   "outputs": [],
   "source": [
    "# len(pred_2)"
   ]
  },
  {
   "cell_type": "code",
   "execution_count": null,
   "metadata": {
    "ExecuteTime": {
     "end_time": "2021-11-23T02:10:47.938463Z",
     "start_time": "2021-11-23T02:10:47.938463Z"
    }
   },
   "outputs": [],
   "source": [
    "# len(cluster_2_dlabel)"
   ]
  },
  {
   "cell_type": "code",
   "execution_count": null,
   "metadata": {
    "ExecuteTime": {
     "end_time": "2021-11-23T02:10:47.940464Z",
     "start_time": "2021-11-23T02:10:47.940464Z"
    }
   },
   "outputs": [],
   "source": [
    "# error_dev_2 = model_2.score(cluster_2_dev, cluster_2_dlabel)\n",
    "# error_train_2 = model_2.score(cluster_2_train, cluster_2_tlabel)\n",
    "# rmse = (mean_squared_error(cluster_2_dlabel, pred_2))**(1/2)\n",
    "# rmse_log = (mean_squared_log_error(cluster_2_dlabel, pred_2))**(1/2)\n",
    "# print (f'R^2 on train data {error_train_2:.5f}')\n",
    "# print (f'R^2 on dev data {error_dev_2:.5f}')\n",
    "# print (f'RMSE {rmse:.5f}')\n",
    "# print (f'RMSE_LOG {rmse_log:.5f}')"
   ]
  },
  {
   "cell_type": "code",
   "execution_count": null,
   "metadata": {
    "ExecuteTime": {
     "end_time": "2021-11-23T02:10:47.942463Z",
     "start_time": "2021-11-23T02:10:47.942463Z"
    }
   },
   "outputs": [],
   "source": [
    "# from sklearn.svm import SVR"
   ]
  },
  {
   "cell_type": "code",
   "execution_count": null,
   "metadata": {
    "ExecuteTime": {
     "end_time": "2021-11-23T02:10:47.946468Z",
     "start_time": "2021-11-23T02:10:47.946468Z"
    }
   },
   "outputs": [],
   "source": [
    "# sv = SVR()\n",
    "# model_0s = sv.fit(cluster_0_train,cluster_0_tlabel)\n",
    "# pred_0s = model_0s.predict(cluster_0_dev)\n",
    "# error_dev_0s = model_0s.score(cluster_0_dev, cluster_0_dlabel)\n",
    "# error_train_0s = model_0s.score(cluster_0_train, cluster_0_tlabel)"
   ]
  },
  {
   "cell_type": "code",
   "execution_count": null,
   "metadata": {
    "ExecuteTime": {
     "end_time": "2021-11-23T02:10:47.949464Z",
     "start_time": "2021-11-23T02:10:47.949464Z"
    }
   },
   "outputs": [],
   "source": [
    "# rmse = (mean_squared_error(cluster_0_dlabel, pred_0s))**(1/2)\n",
    "# rmse_log = (mean_squared_log_error(cluster_0_dlabel, pred_0s))**(1/2)\n",
    "# print (f'R^2 on train data {error_train_0s:.5f}')\n",
    "# print (f'R^2 on dev data {error_dev_0s:.5f}')\n",
    "# print (f'RMSE {rmse:.5f}')\n",
    "# print (f'RMSE_LOG {rmse_log:.5f}')"
   ]
  },
  {
   "cell_type": "code",
   "execution_count": null,
   "metadata": {},
   "outputs": [],
   "source": []
  },
  {
   "cell_type": "code",
   "execution_count": null,
   "metadata": {},
   "outputs": [],
   "source": []
  },
  {
   "cell_type": "code",
   "execution_count": null,
   "metadata": {},
   "outputs": [],
   "source": []
  },
  {
   "cell_type": "code",
   "execution_count": null,
   "metadata": {
    "ExecuteTime": {
     "end_time": "2021-11-23T02:10:47.990463Z",
     "start_time": "2021-11-23T02:10:47.990463Z"
    },
    "colab": {
     "base_uri": "https://localhost:8080/",
     "height": 456
    },
    "executionInfo": {
     "elapsed": 535,
     "status": "ok",
     "timestamp": 1636309084690,
     "user": {
      "displayName": "anshuman awasthi",
      "photoUrl": "https://lh3.googleusercontent.com/a/default-user=s64",
      "userId": "02302100422864111709"
     },
     "user_tz": -330
    },
    "id": "rQ4OWmDO9wYE",
    "outputId": "96e73295-efe5-4742-eaf8-9e46653dc685"
   },
   "outputs": [],
   "source": []
  },
  {
   "cell_type": "code",
   "execution_count": null,
   "metadata": {
    "ExecuteTime": {
     "end_time": "2021-11-23T02:10:47.992462Z",
     "start_time": "2021-11-23T02:10:47.992462Z"
    },
    "executionInfo": {
     "elapsed": 462,
     "status": "ok",
     "timestamp": 1636309088112,
     "user": {
      "displayName": "anshuman awasthi",
      "photoUrl": "https://lh3.googleusercontent.com/a/default-user=s64",
      "userId": "02302100422864111709"
     },
     "user_tz": -330
    },
    "id": "_aUf8FvS-Q80"
   },
   "outputs": [],
   "source": []
  },
  {
   "cell_type": "code",
   "execution_count": null,
   "metadata": {
    "ExecuteTime": {
     "end_time": "2021-11-23T02:10:47.995462Z",
     "start_time": "2021-11-23T02:10:47.995462Z"
    },
    "colab": {
     "base_uri": "https://localhost:8080/"
    },
    "executionInfo": {
     "elapsed": 14,
     "status": "ok",
     "timestamp": 1636304224305,
     "user": {
      "displayName": "anshuman awasthi",
      "photoUrl": "https://lh3.googleusercontent.com/a/default-user=s64",
      "userId": "02302100422864111709"
     },
     "user_tz": -330
    },
    "id": "TGAVhvco-XKM",
    "outputId": "40a30eef-f2b7-476f-8652-363a1afac4ce"
   },
   "outputs": [],
   "source": []
  },
  {
   "cell_type": "code",
   "execution_count": null,
   "metadata": {
    "ExecuteTime": {
     "end_time": "2021-11-23T02:10:47.997463Z",
     "start_time": "2021-11-23T02:10:47.997463Z"
    },
    "executionInfo": {
     "elapsed": 11,
     "status": "ok",
     "timestamp": 1636304224305,
     "user": {
      "displayName": "anshuman awasthi",
      "photoUrl": "https://lh3.googleusercontent.com/a/default-user=s64",
      "userId": "02302100422864111709"
     },
     "user_tz": -330
    },
    "id": "tUlogyGxmr8A"
   },
   "outputs": [],
   "source": []
  },
  {
   "cell_type": "code",
   "execution_count": null,
   "metadata": {
    "ExecuteTime": {
     "end_time": "2021-11-23T02:10:48.000463Z",
     "start_time": "2021-11-23T02:10:48.000463Z"
    },
    "colab": {
     "base_uri": "https://localhost:8080/"
    },
    "executionInfo": {
     "elapsed": 11,
     "status": "ok",
     "timestamp": 1636304224305,
     "user": {
      "displayName": "anshuman awasthi",
      "photoUrl": "https://lh3.googleusercontent.com/a/default-user=s64",
      "userId": "02302100422864111709"
     },
     "user_tz": -330
    },
    "id": "OKn-nlbhmuFu",
    "outputId": "f26af225-134f-4bab-cff6-66ccf6b0b4b8"
   },
   "outputs": [],
   "source": []
  },
  {
   "cell_type": "code",
   "execution_count": null,
   "metadata": {
    "ExecuteTime": {
     "end_time": "2021-11-23T02:10:48.003462Z",
     "start_time": "2021-11-23T02:10:48.003462Z"
    },
    "colab": {
     "base_uri": "https://localhost:8080/"
    },
    "executionInfo": {
     "elapsed": 3466,
     "status": "ok",
     "timestamp": 1636309097548,
     "user": {
      "displayName": "anshuman awasthi",
      "photoUrl": "https://lh3.googleusercontent.com/a/default-user=s64",
      "userId": "02302100422864111709"
     },
     "user_tz": -330
    },
    "id": "LRcbgTdunDnn",
    "outputId": "be182c87-6a31-4afc-b3c8-189c3b7d226c"
   },
   "outputs": [],
   "source": []
  },
  {
   "cell_type": "code",
   "execution_count": null,
   "metadata": {
    "ExecuteTime": {
     "end_time": "2021-11-23T02:10:48.006463Z",
     "start_time": "2021-11-23T02:10:48.006463Z"
    },
    "executionInfo": {
     "elapsed": 425,
     "status": "ok",
     "timestamp": 1636309314500,
     "user": {
      "displayName": "anshuman awasthi",
      "photoUrl": "https://lh3.googleusercontent.com/a/default-user=s64",
      "userId": "02302100422864111709"
     },
     "user_tz": -330
    },
    "id": "BA_1awsHn4EQ"
   },
   "outputs": [],
   "source": []
  },
  {
   "cell_type": "code",
   "execution_count": null,
   "metadata": {
    "ExecuteTime": {
     "end_time": "2021-11-23T02:10:48.008462Z",
     "start_time": "2021-11-23T02:10:48.008462Z"
    },
    "colab": {
     "base_uri": "https://localhost:8080/"
    },
    "executionInfo": {
     "elapsed": 463,
     "status": "ok",
     "timestamp": 1636309325214,
     "user": {
      "displayName": "anshuman awasthi",
      "photoUrl": "https://lh3.googleusercontent.com/a/default-user=s64",
      "userId": "02302100422864111709"
     },
     "user_tz": -330
    },
    "id": "z4MyrjewoJvw",
    "outputId": "df2a4819-777f-4fae-d49d-98667d963669"
   },
   "outputs": [],
   "source": []
  },
  {
   "cell_type": "code",
   "execution_count": null,
   "metadata": {
    "ExecuteTime": {
     "end_time": "2021-11-23T02:10:48.011462Z",
     "start_time": "2021-11-23T02:10:48.011462Z"
    },
    "colab": {
     "base_uri": "https://localhost:8080/"
    },
    "executionInfo": {
     "elapsed": 442,
     "status": "ok",
     "timestamp": 1636304360505,
     "user": {
      "displayName": "anshuman awasthi",
      "photoUrl": "https://lh3.googleusercontent.com/a/default-user=s64",
      "userId": "02302100422864111709"
     },
     "user_tz": -330
    },
    "id": "1TFZYfgimxD6",
    "outputId": "e37cf6cb-1d64-4cd1-f438-e9d5084c3eea"
   },
   "outputs": [],
   "source": []
  },
  {
   "cell_type": "code",
   "execution_count": null,
   "metadata": {
    "ExecuteTime": {
     "end_time": "2021-11-23T02:10:48.014466Z",
     "start_time": "2021-11-23T02:10:48.014466Z"
    },
    "colab": {
     "base_uri": "https://localhost:8080/"
    },
    "executionInfo": {
     "elapsed": 414,
     "status": "ok",
     "timestamp": 1636304402021,
     "user": {
      "displayName": "anshuman awasthi",
      "photoUrl": "https://lh3.googleusercontent.com/a/default-user=s64",
      "userId": "02302100422864111709"
     },
     "user_tz": -330
    },
    "id": "9AetmXOoVipi",
    "outputId": "5e442ced-eb42-4d80-860a-94d1f2d53925"
   },
   "outputs": [],
   "source": []
  },
  {
   "cell_type": "code",
   "execution_count": null,
   "metadata": {
    "ExecuteTime": {
     "end_time": "2021-11-23T02:10:48.017466Z",
     "start_time": "2021-11-23T02:10:48.017466Z"
    },
    "colab": {
     "base_uri": "https://localhost:8080/"
    },
    "executionInfo": {
     "elapsed": 440,
     "status": "ok",
     "timestamp": 1636304830214,
     "user": {
      "displayName": "anshuman awasthi",
      "photoUrl": "https://lh3.googleusercontent.com/a/default-user=s64",
      "userId": "02302100422864111709"
     },
     "user_tz": -330
    },
    "id": "2MW3avz7V69b",
    "outputId": "78652e96-a769-4bfc-d8dd-06496ff9a137"
   },
   "outputs": [],
   "source": []
  },
  {
   "cell_type": "code",
   "execution_count": null,
   "metadata": {
    "ExecuteTime": {
     "end_time": "2021-11-23T02:10:48.020463Z",
     "start_time": "2021-11-23T02:10:48.020463Z"
    },
    "colab": {
     "base_uri": "https://localhost:8080/"
    },
    "executionInfo": {
     "elapsed": 450,
     "status": "ok",
     "timestamp": 1636305555716,
     "user": {
      "displayName": "anshuman awasthi",
      "photoUrl": "https://lh3.googleusercontent.com/a/default-user=s64",
      "userId": "02302100422864111709"
     },
     "user_tz": -330
    },
    "id": "rHnZrHMwXKZP",
    "outputId": "10945343-3edf-4fb9-d193-dcfc5c539497"
   },
   "outputs": [],
   "source": []
  },
  {
   "cell_type": "code",
   "execution_count": null,
   "metadata": {
    "ExecuteTime": {
     "end_time": "2021-11-23T02:10:48.023463Z",
     "start_time": "2021-11-23T02:10:48.023463Z"
    },
    "colab": {
     "base_uri": "https://localhost:8080/",
     "height": 456
    },
    "executionInfo": {
     "elapsed": 423,
     "status": "ok",
     "timestamp": 1636306019158,
     "user": {
      "displayName": "anshuman awasthi",
      "photoUrl": "https://lh3.googleusercontent.com/a/default-user=s64",
      "userId": "02302100422864111709"
     },
     "user_tz": -330
    },
    "id": "nKDmWqNiaUzG",
    "outputId": "c53f5cbf-794c-46b1-ec69-d89aea245069"
   },
   "outputs": [],
   "source": []
  },
  {
   "cell_type": "code",
   "execution_count": null,
   "metadata": {
    "ExecuteTime": {
     "end_time": "2021-11-23T02:10:48.025462Z",
     "start_time": "2021-11-23T02:10:48.025462Z"
    },
    "executionInfo": {
     "elapsed": 462,
     "status": "ok",
     "timestamp": 1636307474623,
     "user": {
      "displayName": "anshuman awasthi",
      "photoUrl": "https://lh3.googleusercontent.com/a/default-user=s64",
      "userId": "02302100422864111709"
     },
     "user_tz": -330
    },
    "id": "BY5surPCbl5a"
   },
   "outputs": [],
   "source": []
  },
  {
   "cell_type": "code",
   "execution_count": null,
   "metadata": {
    "ExecuteTime": {
     "end_time": "2021-11-23T02:10:48.029463Z",
     "start_time": "2021-11-23T02:10:48.028461Z"
    },
    "colab": {
     "base_uri": "https://localhost:8080/"
    },
    "executionInfo": {
     "elapsed": 652,
     "status": "ok",
     "timestamp": 1636307757298,
     "user": {
      "displayName": "anshuman awasthi",
      "photoUrl": "https://lh3.googleusercontent.com/a/default-user=s64",
      "userId": "02302100422864111709"
     },
     "user_tz": -330
    },
    "id": "I217z50tcO41",
    "outputId": "ffcd92a4-c870-4b43-c9e9-e8d443ce825e"
   },
   "outputs": [],
   "source": []
  },
  {
   "cell_type": "code",
   "execution_count": null,
   "metadata": {
    "ExecuteTime": {
     "end_time": "2021-11-23T02:10:48.032464Z",
     "start_time": "2021-11-23T02:10:48.031463Z"
    },
    "colab": {
     "base_uri": "https://localhost:8080/"
    },
    "executionInfo": {
     "elapsed": 694,
     "status": "ok",
     "timestamp": 1636308044103,
     "user": {
      "displayName": "anshuman awasthi",
      "photoUrl": "https://lh3.googleusercontent.com/a/default-user=s64",
      "userId": "02302100422864111709"
     },
     "user_tz": -330
    },
    "id": "b0XShxc5ctBL",
    "outputId": "7368f126-bf1e-4b5a-f04d-d994522df72b"
   },
   "outputs": [],
   "source": []
  },
  {
   "cell_type": "code",
   "execution_count": null,
   "metadata": {
    "ExecuteTime": {
     "end_time": "2021-11-23T02:10:48.034463Z",
     "start_time": "2021-11-23T02:10:48.034463Z"
    },
    "colab": {
     "base_uri": "https://localhost:8080/"
    },
    "executionInfo": {
     "elapsed": 437,
     "status": "ok",
     "timestamp": 1636308059777,
     "user": {
      "displayName": "anshuman awasthi",
      "photoUrl": "https://lh3.googleusercontent.com/a/default-user=s64",
      "userId": "02302100422864111709"
     },
     "user_tz": -330
    },
    "id": "-nppEsxSiaVI",
    "outputId": "76584c2b-38d7-4bbe-ebe5-f914b23da035"
   },
   "outputs": [],
   "source": []
  },
  {
   "cell_type": "code",
   "execution_count": null,
   "metadata": {
    "id": "C2SlyXdxiejC"
   },
   "outputs": [],
   "source": []
  }
 ],
 "metadata": {
  "colab": {
   "authorship_tag": "ABX9TyM1x2ekHhbOeb4o9lpWwJFm",
   "name": "Attempt1_AA.ipynb",
   "provenance": []
  },
  "kernelspec": {
   "display_name": "Python 3",
   "language": "python",
   "name": "python3"
  },
  "language_info": {
   "codemirror_mode": {
    "name": "ipython",
    "version": 3
   },
   "file_extension": ".py",
   "mimetype": "text/x-python",
   "name": "python",
   "nbconvert_exporter": "python",
   "pygments_lexer": "ipython3",
   "version": "3.8.5"
  },
  "varInspector": {
   "cols": {
    "lenName": 16,
    "lenType": 16,
    "lenVar": 40
   },
   "kernels_config": {
    "python": {
     "delete_cmd_postfix": "",
     "delete_cmd_prefix": "del ",
     "library": "var_list.py",
     "varRefreshCmd": "print(var_dic_list())"
    },
    "r": {
     "delete_cmd_postfix": ") ",
     "delete_cmd_prefix": "rm(",
     "library": "var_list.r",
     "varRefreshCmd": "cat(var_dic_list()) "
    }
   },
   "types_to_exclude": [
    "module",
    "function",
    "builtin_function_or_method",
    "instance",
    "_Feature"
   ],
   "window_display": false
  }
 },
 "nbformat": 4,
 "nbformat_minor": 1
}
